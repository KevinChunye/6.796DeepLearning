{
  "cells": [
    {
      "cell_type": "markdown",
      "metadata": {
        "id": "view-in-github",
        "colab_type": "text"
      },
      "source": [
        "<a href=\"https://colab.research.google.com/github/KevinChunye/6.796DeepLearning/blob/main/6_7960_Fall_2024_hw1_CIFAR10.ipynb\" target=\"_parent\"><img src=\"https://colab.research.google.com/assets/colab-badge.svg\" alt=\"Open In Colab\"/></a>"
      ]
    },
    {
      "cell_type": "markdown",
      "metadata": {
        "id": "Mp7RKvwbwbpa"
      },
      "source": [
        "**NOTE:** For all questions in this notebook, include your answers in the pdf submission. Do **not** submit the colab.\n",
        "\n",
        "<h1>CIFAR-10</h1>\n",
        "\n",
        "CIFAR-10 is a image classification dataset.\n",
        "+ Each data sample is an RGB $32\\times32$ real image. A raw loaded image $\\in \\mathbb{R}^{3 \\times 32 \\times 32}$.\n",
        "+ Each image is associated with a label $\\in [0,1 ,2 ,3 ,4, 5, 6, 7, 8, 9]$.\n",
        "\n",
        "<table>\n",
        "    <tbody><tr>\n",
        "        <td class=\"cifar-class-name\">airplane</td>\n",
        "        <td><img src=\"https://www.cs.toronto.edu/~kriz/cifar-10-sample/airplane1.png\" class=\"cifar-sample\"></td>\n",
        "        <td><img src=\"https://www.cs.toronto.edu/~kriz/cifar-10-sample/airplane2.png\" class=\"cifar-sample\"></td>\n",
        "        <td><img src=\"https://www.cs.toronto.edu/~kriz/cifar-10-sample/airplane3.png\" class=\"cifar-sample\"></td>\n",
        "        <td><img src=\"https://www.cs.toronto.edu/~kriz/cifar-10-sample/airplane4.png\" class=\"cifar-sample\"></td>\n",
        "        <td><img src=\"https://www.cs.toronto.edu/~kriz/cifar-10-sample/airplane5.png\" class=\"cifar-sample\"></td>\n",
        "        <td><img src=\"https://www.cs.toronto.edu/~kriz/cifar-10-sample/airplane6.png\" class=\"cifar-sample\"></td>\n",
        "        <td><img src=\"https://www.cs.toronto.edu/~kriz/cifar-10-sample/airplane7.png\" class=\"cifar-sample\"></td>\n",
        "        <td><img src=\"https://www.cs.toronto.edu/~kriz/cifar-10-sample/airplane8.png\" class=\"cifar-sample\"></td>\n",
        "        <td><img src=\"https://www.cs.toronto.edu/~kriz/cifar-10-sample/airplane9.png\" class=\"cifar-sample\"></td>\n",
        "        <td><img src=\"https://www.cs.toronto.edu/~kriz/cifar-10-sample/airplane10.png\" class=\"cifar-sample\"></td>\n",
        "    </tr>\n",
        "    <tr>\n",
        "        <td class=\"cifar-class-name\">automobile</td>\n",
        "        <td><img src=\"https://www.cs.toronto.edu/~kriz/cifar-10-sample/automobile1.png\" class=\"cifar-sample\"></td>\n",
        "        <td><img src=\"https://www.cs.toronto.edu/~kriz/cifar-10-sample/automobile2.png\" class=\"cifar-sample\"></td>\n",
        "        <td><img src=\"https://www.cs.toronto.edu/~kriz/cifar-10-sample/automobile3.png\" class=\"cifar-sample\"></td>\n",
        "        <td><img src=\"https://www.cs.toronto.edu/~kriz/cifar-10-sample/automobile4.png\" class=\"cifar-sample\"></td>\n",
        "        <td><img src=\"https://www.cs.toronto.edu/~kriz/cifar-10-sample/automobile5.png\" class=\"cifar-sample\"></td>\n",
        "        <td><img src=\"https://www.cs.toronto.edu/~kriz/cifar-10-sample/automobile6.png\" class=\"cifar-sample\"></td>\n",
        "        <td><img src=\"https://www.cs.toronto.edu/~kriz/cifar-10-sample/automobile7.png\" class=\"cifar-sample\"></td>\n",
        "        <td><img src=\"https://www.cs.toronto.edu/~kriz/cifar-10-sample/automobile8.png\" class=\"cifar-sample\"></td>\n",
        "        <td><img src=\"https://www.cs.toronto.edu/~kriz/cifar-10-sample/automobile9.png\" class=\"cifar-sample\"></td>\n",
        "        <td><img src=\"https://www.cs.toronto.edu/~kriz/cifar-10-sample/automobile10.png\" class=\"cifar-sample\"></td>\n",
        "    </tr>\n",
        "    <tr>\n",
        "        <td class=\"cifar-class-name\">bird</td>\n",
        "        <td><img src=\"https://www.cs.toronto.edu/~kriz/cifar-10-sample/bird1.png\" class=\"cifar-sample\"></td>\n",
        "        <td><img src=\"https://www.cs.toronto.edu/~kriz/cifar-10-sample/bird2.png\" class=\"cifar-sample\"></td>\n",
        "        <td><img src=\"https://www.cs.toronto.edu/~kriz/cifar-10-sample/bird3.png\" class=\"cifar-sample\"></td>\n",
        "        <td><img src=\"https://www.cs.toronto.edu/~kriz/cifar-10-sample/bird4.png\" class=\"cifar-sample\"></td>\n",
        "        <td><img src=\"https://www.cs.toronto.edu/~kriz/cifar-10-sample/bird5.png\" class=\"cifar-sample\"></td>\n",
        "        <td><img src=\"https://www.cs.toronto.edu/~kriz/cifar-10-sample/bird6.png\" class=\"cifar-sample\"></td>\n",
        "        <td><img src=\"https://www.cs.toronto.edu/~kriz/cifar-10-sample/bird7.png\" class=\"cifar-sample\"></td>\n",
        "        <td><img src=\"https://www.cs.toronto.edu/~kriz/cifar-10-sample/bird8.png\" class=\"cifar-sample\"></td>\n",
        "        <td><img src=\"https://www.cs.toronto.edu/~kriz/cifar-10-sample/bird9.png\" class=\"cifar-sample\"></td>\n",
        "        <td><img src=\"https://www.cs.toronto.edu/~kriz/cifar-10-sample/bird10.png\" class=\"cifar-sample\"></td>\n",
        "    </tr>\n",
        "    <tr>\n",
        "        <td class=\"cifar-class-name\">cat</td>\n",
        "        <td><img src=\"https://www.cs.toronto.edu/~kriz/cifar-10-sample/cat1.png\" class=\"cifar-sample\"></td>\n",
        "        <td><img src=\"https://www.cs.toronto.edu/~kriz/cifar-10-sample/cat2.png\" class=\"cifar-sample\"></td>\n",
        "        <td><img src=\"https://www.cs.toronto.edu/~kriz/cifar-10-sample/cat3.png\" class=\"cifar-sample\"></td>\n",
        "        <td><img src=\"https://www.cs.toronto.edu/~kriz/cifar-10-sample/cat4.png\" class=\"cifar-sample\"></td>\n",
        "        <td><img src=\"https://www.cs.toronto.edu/~kriz/cifar-10-sample/cat5.png\" class=\"cifar-sample\"></td>\n",
        "        <td><img src=\"https://www.cs.toronto.edu/~kriz/cifar-10-sample/cat6.png\" class=\"cifar-sample\"></td>\n",
        "        <td><img src=\"https://www.cs.toronto.edu/~kriz/cifar-10-sample/cat7.png\" class=\"cifar-sample\"></td>\n",
        "        <td><img src=\"https://www.cs.toronto.edu/~kriz/cifar-10-sample/cat8.png\" class=\"cifar-sample\"></td>\n",
        "        <td><img src=\"https://www.cs.toronto.edu/~kriz/cifar-10-sample/cat9.png\" class=\"cifar-sample\"></td>\n",
        "        <td><img src=\"https://www.cs.toronto.edu/~kriz/cifar-10-sample/cat10.png\" class=\"cifar-sample\"></td>\n",
        "    </tr>\n",
        "    <tr>\n",
        "        <td class=\"cifar-class-name\">deer</td>\n",
        "        <td><img src=\"https://www.cs.toronto.edu/~kriz/cifar-10-sample/deer1.png\" class=\"cifar-sample\"></td>\n",
        "        <td><img src=\"https://www.cs.toronto.edu/~kriz/cifar-10-sample/deer2.png\" class=\"cifar-sample\"></td>\n",
        "        <td><img src=\"https://www.cs.toronto.edu/~kriz/cifar-10-sample/deer3.png\" class=\"cifar-sample\"></td>\n",
        "        <td><img src=\"https://www.cs.toronto.edu/~kriz/cifar-10-sample/deer4.png\" class=\"cifar-sample\"></td>\n",
        "        <td><img src=\"https://www.cs.toronto.edu/~kriz/cifar-10-sample/deer5.png\" class=\"cifar-sample\"></td>\n",
        "        <td><img src=\"https://www.cs.toronto.edu/~kriz/cifar-10-sample/deer6.png\" class=\"cifar-sample\"></td>\n",
        "        <td><img src=\"https://www.cs.toronto.edu/~kriz/cifar-10-sample/deer7.png\" class=\"cifar-sample\"></td>\n",
        "        <td><img src=\"https://www.cs.toronto.edu/~kriz/cifar-10-sample/deer8.png\" class=\"cifar-sample\"></td>\n",
        "        <td><img src=\"https://www.cs.toronto.edu/~kriz/cifar-10-sample/deer9.png\" class=\"cifar-sample\"></td>\n",
        "        <td><img src=\"https://www.cs.toronto.edu/~kriz/cifar-10-sample/deer10.png\" class=\"cifar-sample\"></td>\n",
        "    </tr>\n",
        "    <tr>\n",
        "        <td class=\"cifar-class-name\">dog</td>\n",
        "        <td><img src=\"https://www.cs.toronto.edu/~kriz/cifar-10-sample/dog1.png\" class=\"cifar-sample\"></td>\n",
        "        <td><img src=\"https://www.cs.toronto.edu/~kriz/cifar-10-sample/dog2.png\" class=\"cifar-sample\"></td>\n",
        "        <td><img src=\"https://www.cs.toronto.edu/~kriz/cifar-10-sample/dog3.png\" class=\"cifar-sample\"></td>\n",
        "        <td><img src=\"https://www.cs.toronto.edu/~kriz/cifar-10-sample/dog4.png\" class=\"cifar-sample\"></td>\n",
        "        <td><img src=\"https://www.cs.toronto.edu/~kriz/cifar-10-sample/dog5.png\" class=\"cifar-sample\"></td>\n",
        "        <td><img src=\"https://www.cs.toronto.edu/~kriz/cifar-10-sample/dog6.png\" class=\"cifar-sample\"></td>\n",
        "        <td><img src=\"https://www.cs.toronto.edu/~kriz/cifar-10-sample/dog7.png\" class=\"cifar-sample\"></td>\n",
        "        <td><img src=\"https://www.cs.toronto.edu/~kriz/cifar-10-sample/dog8.png\" class=\"cifar-sample\"></td>\n",
        "        <td><img src=\"https://www.cs.toronto.edu/~kriz/cifar-10-sample/dog9.png\" class=\"cifar-sample\"></td>\n",
        "        <td><img src=\"https://www.cs.toronto.edu/~kriz/cifar-10-sample/dog10.png\" class=\"cifar-sample\"></td>\n",
        "    </tr>\n",
        "    <tr>\n",
        "        <td class=\"cifar-class-name\">frog</td>\n",
        "        <td><img src=\"https://www.cs.toronto.edu/~kriz/cifar-10-sample/frog1.png\" class=\"cifar-sample\"></td>\n",
        "        <td><img src=\"https://www.cs.toronto.edu/~kriz/cifar-10-sample/frog2.png\" class=\"cifar-sample\"></td>\n",
        "        <td><img src=\"https://www.cs.toronto.edu/~kriz/cifar-10-sample/frog3.png\" class=\"cifar-sample\"></td>\n",
        "        <td><img src=\"https://www.cs.toronto.edu/~kriz/cifar-10-sample/frog4.png\" class=\"cifar-sample\"></td>\n",
        "        <td><img src=\"https://www.cs.toronto.edu/~kriz/cifar-10-sample/frog5.png\" class=\"cifar-sample\"></td>\n",
        "        <td><img src=\"https://www.cs.toronto.edu/~kriz/cifar-10-sample/frog6.png\" class=\"cifar-sample\"></td>\n",
        "        <td><img src=\"https://www.cs.toronto.edu/~kriz/cifar-10-sample/frog7.png\" class=\"cifar-sample\"></td>\n",
        "        <td><img src=\"https://www.cs.toronto.edu/~kriz/cifar-10-sample/frog8.png\" class=\"cifar-sample\"></td>\n",
        "        <td><img src=\"https://www.cs.toronto.edu/~kriz/cifar-10-sample/frog9.png\" class=\"cifar-sample\"></td>\n",
        "        <td><img src=\"https://www.cs.toronto.edu/~kriz/cifar-10-sample/frog10.png\" class=\"cifar-sample\"></td>\n",
        "    </tr>\n",
        "    <tr>\n",
        "        <td class=\"cifar-class-name\">horse</td>\n",
        "        <td><img src=\"https://www.cs.toronto.edu/~kriz/cifar-10-sample/horse1.png\" class=\"cifar-sample\"></td>\n",
        "        <td><img src=\"https://www.cs.toronto.edu/~kriz/cifar-10-sample/horse2.png\" class=\"cifar-sample\"></td>\n",
        "        <td><img src=\"https://www.cs.toronto.edu/~kriz/cifar-10-sample/horse3.png\" class=\"cifar-sample\"></td>\n",
        "        <td><img src=\"https://www.cs.toronto.edu/~kriz/cifar-10-sample/horse4.png\" class=\"cifar-sample\"></td>\n",
        "        <td><img src=\"https://www.cs.toronto.edu/~kriz/cifar-10-sample/horse5.png\" class=\"cifar-sample\"></td>\n",
        "        <td><img src=\"https://www.cs.toronto.edu/~kriz/cifar-10-sample/horse6.png\" class=\"cifar-sample\"></td>\n",
        "        <td><img src=\"https://www.cs.toronto.edu/~kriz/cifar-10-sample/horse7.png\" class=\"cifar-sample\"></td>\n",
        "        <td><img src=\"https://www.cs.toronto.edu/~kriz/cifar-10-sample/horse8.png\" class=\"cifar-sample\"></td>\n",
        "        <td><img src=\"https://www.cs.toronto.edu/~kriz/cifar-10-sample/horse9.png\" class=\"cifar-sample\"></td>\n",
        "        <td><img src=\"https://www.cs.toronto.edu/~kriz/cifar-10-sample/horse10.png\" class=\"cifar-sample\"></td>\n",
        "    </tr>\n",
        "    <tr>\n",
        "        <td class=\"cifar-class-name\">ship</td>\n",
        "        <td><img src=\"https://www.cs.toronto.edu/~kriz/cifar-10-sample/ship1.png\" class=\"cifar-sample\"></td>\n",
        "        <td><img src=\"https://www.cs.toronto.edu/~kriz/cifar-10-sample/ship2.png\" class=\"cifar-sample\"></td>\n",
        "        <td><img src=\"https://www.cs.toronto.edu/~kriz/cifar-10-sample/ship3.png\" class=\"cifar-sample\"></td>\n",
        "        <td><img src=\"https://www.cs.toronto.edu/~kriz/cifar-10-sample/ship4.png\" class=\"cifar-sample\"></td>\n",
        "        <td><img src=\"https://www.cs.toronto.edu/~kriz/cifar-10-sample/ship5.png\" class=\"cifar-sample\"></td>\n",
        "        <td><img src=\"https://www.cs.toronto.edu/~kriz/cifar-10-sample/ship6.png\" class=\"cifar-sample\"></td>\n",
        "        <td><img src=\"https://www.cs.toronto.edu/~kriz/cifar-10-sample/ship7.png\" class=\"cifar-sample\"></td>\n",
        "        <td><img src=\"https://www.cs.toronto.edu/~kriz/cifar-10-sample/ship8.png\" class=\"cifar-sample\"></td>\n",
        "        <td><img src=\"https://www.cs.toronto.edu/~kriz/cifar-10-sample/ship9.png\" class=\"cifar-sample\"></td>\n",
        "        <td><img src=\"https://www.cs.toronto.edu/~kriz/cifar-10-sample/ship10.png\" class=\"cifar-sample\"></td>\n",
        "    </tr>\n",
        "    <tr>\n",
        "        <td class=\"cifar-class-name\">truck</td>\n",
        "        <td><img src=\"https://www.cs.toronto.edu/~kriz/cifar-10-sample/truck1.png\" class=\"cifar-sample\"></td>\n",
        "        <td><img src=\"https://www.cs.toronto.edu/~kriz/cifar-10-sample/truck2.png\" class=\"cifar-sample\"></td>\n",
        "        <td><img src=\"https://www.cs.toronto.edu/~kriz/cifar-10-sample/truck3.png\" class=\"cifar-sample\"></td>\n",
        "        <td><img src=\"https://www.cs.toronto.edu/~kriz/cifar-10-sample/truck4.png\" class=\"cifar-sample\"></td>\n",
        "        <td><img src=\"https://www.cs.toronto.edu/~kriz/cifar-10-sample/truck5.png\" class=\"cifar-sample\"></td>\n",
        "        <td><img src=\"https://www.cs.toronto.edu/~kriz/cifar-10-sample/truck6.png\" class=\"cifar-sample\"></td>\n",
        "        <td><img src=\"https://www.cs.toronto.edu/~kriz/cifar-10-sample/truck7.png\" class=\"cifar-sample\"></td>\n",
        "        <td><img src=\"https://www.cs.toronto.edu/~kriz/cifar-10-sample/truck8.png\" class=\"cifar-sample\"></td>\n",
        "        <td><img src=\"https://www.cs.toronto.edu/~kriz/cifar-10-sample/truck9.png\" class=\"cifar-sample\"></td>\n",
        "        <td><img src=\"https://www.cs.toronto.edu/~kriz/cifar-10-sample/truck10.png\" class=\"cifar-sample\"></td>\n",
        "    </tr>\n",
        "</tbody></table>\n",
        "(Table credit to Alex Krizhevsky's [webpage](https://www.cs.toronto.edu/~kriz/cifar.html).)\n",
        "\n",
        "Our goal is to train a neural network classifier that takes such $3\\times28\\times28$ images and predict a label $\\in \\{0, 1, 2, \\dots, 9\\}$.\n",
        "\n",
        "You will first implement a neural network with manual backpropagation rules, and then train it on CIFAR-10 classification.\n",
        "\n",
        "**NOTE:** A lot of skeleton code is provided to you already. Make sure to read through and understand them, as less such code will be provided as we are further into the course and more used to deep learning code structure. **Unless asked to, please do not modify provided code.**"
      ]
    },
    {
      "cell_type": "code",
      "execution_count": null,
      "metadata": {
        "colab": {
          "base_uri": "https://localhost:8080/"
        },
        "id": "5MEnmRQuzLFj",
        "outputId": "16bcada1-f72c-498b-b331-8bc6b162e7e8"
      },
      "outputs": [
        {
          "output_type": "stream",
          "name": "stdout",
          "text": [
            "Requirement already satisfied: torch in /usr/local/lib/python3.10/dist-packages (2.4.0+cu121)\n",
            "Requirement already satisfied: torchvision in /usr/local/lib/python3.10/dist-packages (0.19.0+cu121)\n",
            "Requirement already satisfied: filelock in /usr/local/lib/python3.10/dist-packages (from torch) (3.15.4)\n",
            "Requirement already satisfied: typing-extensions>=4.8.0 in /usr/local/lib/python3.10/dist-packages (from torch) (4.12.2)\n",
            "Requirement already satisfied: sympy in /usr/local/lib/python3.10/dist-packages (from torch) (1.13.2)\n",
            "Requirement already satisfied: networkx in /usr/local/lib/python3.10/dist-packages (from torch) (3.3)\n",
            "Requirement already satisfied: jinja2 in /usr/local/lib/python3.10/dist-packages (from torch) (3.1.4)\n",
            "Requirement already satisfied: fsspec in /usr/local/lib/python3.10/dist-packages (from torch) (2024.6.1)\n",
            "Requirement already satisfied: numpy in /usr/local/lib/python3.10/dist-packages (from torchvision) (1.26.4)\n",
            "Requirement already satisfied: pillow!=8.3.*,>=5.3.0 in /usr/local/lib/python3.10/dist-packages (from torchvision) (9.4.0)\n",
            "Requirement already satisfied: MarkupSafe>=2.0 in /usr/local/lib/python3.10/dist-packages (from jinja2->torch) (2.1.5)\n",
            "Requirement already satisfied: mpmath<1.4,>=1.1.0 in /usr/local/lib/python3.10/dist-packages (from sympy->torch) (1.3.0)\n"
          ]
        }
      ],
      "source": [
        "# install dependencies\n",
        "\n",
        "!pip install torch torchvision"
      ]
    },
    {
      "cell_type": "markdown",
      "metadata": {
        "id": "alPW6hlwE71a"
      },
      "source": [
        "You should run on GPU-enabled colab server (should be default for this notebook)."
      ]
    },
    {
      "cell_type": "code",
      "execution_count": null,
      "metadata": {
        "id": "OYaubOb0E6u7"
      },
      "outputs": [],
      "source": [
        "import torch\n",
        "\n",
        "assert torch.cuda.is_available(), \"Should use GPU-enabled colab\"\n",
        "\n",
        "device = torch.device('cuda:0')  # we will train with CUDA!"
      ]
    },
    {
      "cell_type": "markdown",
      "metadata": {
        "id": "N6SOqXmUzLg9"
      },
      "source": [
        "## Modules\n",
        "\n",
        "In this notebook, we will use a our own `Module` classes, which has a similar API as PyTorch's `nn.Module`, except that we will manually implement our own backprop operations (`module.backward`) rather than using PyTorch's `autograd`."
      ]
    },
    {
      "cell_type": "markdown",
      "metadata": {
        "id": "k4fsMeIjy2T2"
      },
      "source": [
        "Read through the method definitions on `Module` class."
      ]
    },
    {
      "cell_type": "code",
      "execution_count": null,
      "metadata": {
        "id": "nPEYe7bbwbpd"
      },
      "outputs": [],
      "source": [
        "from typing import *\n",
        "import abc\n",
        "\n",
        "\n",
        "# This is our Module API\n",
        "class Module(abc.ABC):\n",
        "    device: Optional[torch.device]  # Parameters should live on this device!\n",
        "    inputs: Tuple[torch.Tensor, ...]\n",
        "\n",
        "    def __init__(self, device=None):\n",
        "        self.device = device\n",
        "\n",
        "    @abc.abstractmethod\n",
        "    def parameters(self) -> Iterator[torch.Tensor]:\n",
        "        r'''\n",
        "        Returns an iterator over the *parameters* of this module.\n",
        "\n",
        "        Subclass needs to implement this.\n",
        "        '''\n",
        "\n",
        "    @abc.abstractmethod\n",
        "    def forward(self, *inputs: torch.Tensor) -> torch.Tensor:\n",
        "        r'''\n",
        "        Returns the output of applying this module on tensors `inputs`, each of\n",
        "        which is a *batched* tensor.\n",
        "\n",
        "        In most cases, the module takes a single input tensor (e.g., linear\n",
        "        layer and ReLU layers). However, multiple inputs are useful when the\n",
        "        module computes a loss between a prediction and groundtruth target.\n",
        "\n",
        "        Subclass needs to implement this.\n",
        "        '''\n",
        "\n",
        "    def __call__(self, *inputs: torch.Tensor) -> torch.Tensor:\n",
        "        r'''\n",
        "        Simply calls forward, and stores inputs at `self.inputs`, which may be\n",
        "        useful for computing gradients in `backward`.\n",
        "        '''\n",
        "        self.inputs = inputs\n",
        "        return self.forward(*inputs)\n",
        "\n",
        "    @abc.abstractmethod\n",
        "    def backward(self, dLdout: torch.Tensor) -> torch.Tensor:\n",
        "        r'''\n",
        "        This is our manual backprop.\n",
        "\n",
        "        Given, `dLdOut` as $dL / d output$, for some loss `L`, we compute\n",
        "        1. For each parameter `p` of this module, compute $d L /d p$, stored at `p.grad`.\n",
        "        2. $dL / d self.inputs[0]$, to be passed to the previous layer. Only\n",
        "           needs to compute derivative of the first input.\n",
        "\n",
        "        Note that $dL / d *$ should always be a tensor of same shape as *. E.g.,\n",
        "        $d L /d p$ (i.e., `p.grad`) should always be of the same shape as `p`.\n",
        "\n",
        "        Subclass needs to implement this.\n",
        "        '''\n",
        "\n",
        "    def zero_grad(self):\n",
        "        r'''\n",
        "        Clear any previous computed gradients.\n",
        "        '''\n",
        "        for p in self.parameters():\n",
        "            p.grad = None"
      ]
    },
    {
      "cell_type": "markdown",
      "metadata": {
        "id": "INlLlaK82RQZ"
      },
      "source": [
        "We will use three kinds of modules to compose our network:\n",
        "+ Linear layer (also called fully-connected layer)\n",
        "+ ReLU activation (our non-linearity)\n",
        "+ Cross entropy loss (our classification loss)\n",
        "\n",
        "**Question 1**: Complete the incomplete `forward` and `backward` definitions of the following module classes, each using `<=5` lines of code. They are marked with `FIXME`. Add your code to the submission pdf."
      ]
    },
    {
      "cell_type": "code",
      "execution_count": null,
      "metadata": {
        "id": "_JyhOIJJ1cug"
      },
      "outputs": [],
      "source": [
        "class Linear(Module):\n",
        "    def __init__(self, in_features: int, out_features: int, device=None):\n",
        "        super().__init__(device)\n",
        "        self.in_features = in_features\n",
        "        self.out_features = out_features\n",
        "        self.weight = torch.randn(out_features, in_features, device=device) / in_features  # weight matrix\n",
        "        self.bias = torch.zeros(out_features, device=device)  # bias vector\n",
        "\n",
        "    def parameters(self) -> Iterator[torch.Tensor]:\n",
        "        return [self.weight, self.bias]\n",
        "\n",
        "    def forward(self, x: torch.Tensor) -> torch.Tensor:\n",
        "        # x           shape: [b, in_features]\n",
        "        # self.weight shape: [out_features, in_features]\n",
        "        # self.bias   shape: [out_features]\n",
        "        #\n",
        "        # output should have shape: [b, out_features]\n",
        "        #\n",
        "        # FIXME\n",
        "        pass\n",
        "\n",
        "    def backward(self, dLdout: torch.Tensor) -> torch.Tensor:\n",
        "        # self.inputs[0] shape: [b, in_features]\n",
        "        # dLdout         shape: [b, out_features]\n",
        "        # self.weight    shape: [out_features, in_features]\n",
        "        # self.bias      shape: [out_featurs]\n",
        "        #\n",
        "        # FIXME\n",
        "        # Note that you should *not* modify `dLdout` or `self.inputs` inplace.\n",
        "        pass\n",
        "\n",
        "    def __repr__(self) -> str:\n",
        "        return f\"Linear(in={self.in_features}, out={self.out_features})\"\n",
        "\n",
        "\n",
        "class ReLU(Module):\n",
        "    def parameters(self) -> Iterator[torch.Tensor]:\n",
        "        return []\n",
        "\n",
        "    def forward(self, x: torch.Tensor) -> torch.Tensor:\n",
        "        return x.clamp(min=0)\n",
        "\n",
        "    def backward(self, dLdout: torch.Tensor) -> torch.Tensor:\n",
        "        # self.inputs[0]  shape: [b, d]\n",
        "        # dLdout          shape: [b, d]\n",
        "        #\n",
        "        # FIXME\n",
        "        # Note that you should *not* modify `dLdout` or `self.inputs` inplace.\n",
        "        pass\n",
        "\n",
        "    def __repr__(self) -> str:\n",
        "        return \"ReLU()\"\n",
        "\n",
        "\n",
        "class CrossEntropyLoss(Module):\n",
        "    def parameters(self) -> Iterator[torch.Tensor]:\n",
        "        return []\n",
        "\n",
        "    def forward(self, logits: torch.Tensor, target: torch.Tensor) -> torch.Tensor:\n",
        "        # logits    shape: [b, num_classes]\n",
        "        # target    shape: [b], containing *integers* in [0, 1, ..., num_classes - 1]\n",
        "        #\n",
        "        # For each logits in the batch\n",
        "        #   p = softmax(logits)\n",
        "        #   loss = -log(p[target])\n",
        "        # Total loss is averaged across the entire batch.\n",
        "        b = logits.shape[0]\n",
        "        return -logits.softmax(dim=-1).log()[torch.arange(b, device=self.device), target].mean()  # scalar, shape: []\n",
        "\n",
        "    def backward(self, dLdout: torch.Tensor) -> torch.Tensor:\n",
        "        logits, target = self.inputs\n",
        "        # logits    shape: [b, num_classes]\n",
        "        # target    shape: [b], containing *integers* in [0, 1, ..., num_classes - 1]\n",
        "        # dLdout    shape: []\n",
        "        #\n",
        "        # FIXME\n",
        "        # Note that you should *not* modify `dLdout` or `self.inputs` inplace.\n",
        "        # Compute dL / d logits\n",
        "        pass\n",
        "\n",
        "    def __repr__(self) -> str:\n",
        "        return \"CrossEntropyLoss()\""
      ]
    },
    {
      "cell_type": "markdown",
      "metadata": {
        "id": "XHITDDZY2QGB"
      },
      "source": [
        "Now, create our network!\n",
        "\n",
        "It takes in `input_dim`-dimensional input, and output $10$-dimensional output, representing the logits of the predicted probabilities.\n",
        "\n",
        "We use a 3 layer ReLU network with width 8192."
      ]
    },
    {
      "cell_type": "code",
      "execution_count": null,
      "metadata": {
        "id": "4pDtWqE98Br5"
      },
      "outputs": [],
      "source": [
        "class Network(Module):\n",
        "    layers: List[Module]\n",
        "\n",
        "    def __init__(self, input_dim, device=None):\n",
        "        super().__init__(device)\n",
        "        self.layers = [\n",
        "            Linear(input_dim, 8192, device=device),\n",
        "            ReLU(device=device),\n",
        "            Linear(8192, 8192, device=device),\n",
        "            ReLU(device=device),\n",
        "            Linear(8192, 10, device=device),\n",
        "        ]\n",
        "\n",
        "    def parameters(self):\n",
        "        r'''\n",
        "        Parameters are from layers.\n",
        "        '''\n",
        "        for layer in self.layers:\n",
        "            yield from layer.parameters()\n",
        "\n",
        "    def forward(self, x: torch.Tensor) -> torch.Tensor:\n",
        "        r'''\n",
        "        Sequentially activate all layers.\n",
        "        '''\n",
        "        y = x\n",
        "        for layer in self.layers:\n",
        "            y = layer(y)\n",
        "        return y\n",
        "\n",
        "    def backward(self, dLdout: torch.Tensor) -> torch.Tensor:\n",
        "        r'''\n",
        "        Backpropagation: backward through each layer in reverse order.\n",
        "        '''\n",
        "        for layer in self.layers[::-1]:\n",
        "            dLdout = layer.backward(dLdout)\n",
        "        return dLdout\n",
        "\n",
        "    def __repr__(self) -> str:\n",
        "        repr_str = \"Network(\\n\"\n",
        "        for layer in self.layers:\n",
        "            repr_str += \"    \" + repr(layer) + \"\\n\"\n",
        "        repr_str += ')'\n",
        "        return repr_str"
      ]
    },
    {
      "cell_type": "markdown",
      "metadata": {
        "id": "FwPYeNKNBYGa"
      },
      "source": [
        "Test your implementation by running the following!"
      ]
    },
    {
      "cell_type": "code",
      "execution_count": null,
      "metadata": {
        "colab": {
          "base_uri": "https://localhost:8080/"
        },
        "id": "oUvCklzY_vE9",
        "outputId": "3d7167a7-67ca-4891-c0d3-45be07fc3fcc"
      },
      "outputs": [
        {
          "output_type": "stream",
          "name": "stdout",
          "text": [
            "Network(\n",
            "    Linear(in=64, out=8192)\n",
            "    ReLU()\n",
            "    Linear(in=8192, out=8192)\n",
            "    ReLU()\n",
            "    Linear(in=8192, out=10)\n",
            ")\n",
            "output=\n",
            " tensor([[ 1.3309e-06,  4.7905e-07,  2.2728e-06,  1.2235e-05,  1.5776e-06,\n",
            "          4.0384e-06, -7.9353e-06,  3.5784e-06,  4.7225e-07, -1.1110e-05],\n",
            "        [ 1.6635e-06,  3.4861e-06,  3.4986e-07,  8.9300e-06, -1.4952e-06,\n",
            "         -2.3495e-07,  1.0695e-06,  2.6006e-06,  3.1107e-07,  7.8211e-07]],\n",
            "       device='cuda:0')\n",
            "backward works!\n"
          ]
        }
      ],
      "source": [
        "model = Network(input_dim=64, device=device)\n",
        "input = torch.randn(2, 64, device=device)\n",
        "print(model)\n",
        "print('output=\\n', model(input))\n",
        "assert model.backward(torch.randn(2, 10, device=device)).shape == input.shape\n",
        "print('backward works!')"
      ]
    },
    {
      "cell_type": "markdown",
      "metadata": {
        "id": "tyjHU6NdCEjT"
      },
      "source": [
        "You can also verify the computed gradients via finite difference. E.g.,"
      ]
    },
    {
      "cell_type": "code",
      "execution_count": null,
      "metadata": {
        "colab": {
          "base_uri": "https://localhost:8080/"
        },
        "id": "EBAHplMKCpi9",
        "outputId": "87ff869f-fef3-48cc-eac3-eaa71ada7f91"
      },
      "outputs": [
        {
          "output_type": "stream",
          "name": "stdout",
          "text": [
            "Our manual backprop grad is  5.312048233463429e-05\n",
            "Numerical backprop grad is  5.529727786779404e-05\n",
            "Any difference on the order of 1e-5 is fine.\n"
          ]
        }
      ],
      "source": [
        "# Compute gradient for the first_linear.weight[845, 34] w.r.t. model(input).sum().\n",
        "\n",
        "model.zero_grad()  # clear up the previously computed gradients\n",
        "input = torch.randn(10, 64, device=device) * 10\n",
        "model.backward(torch.ones_like(model(input)))  # for sum, dLdout is all ones.\n",
        "backprop_grad = model.layers[0].weight.grad[845, 34]\n",
        "\n",
        "print('Our manual backprop grad is ', backprop_grad.item())\n",
        "\n",
        "eps = 1e-5\n",
        "# -eps\n",
        "model.layers[0].weight[845, 34] -= eps\n",
        "output_0 = model(input).sum()\n",
        "# +eps\n",
        "model.layers[0].weight[845, 34] += 2 * eps\n",
        "output_1 = model(input).sum()\n",
        "# numerical\n",
        "numerical_grad = (output_1 - output_0) / (2 * eps)\n",
        "\n",
        "print('Numerical backprop grad is ', numerical_grad.item())\n",
        "print('Any difference on the order of 1e-5 is fine.')"
      ]
    },
    {
      "cell_type": "markdown",
      "metadata": {
        "id": "68F-Ie39G4jS"
      },
      "source": [
        "## Data Preparation\n",
        "\n",
        "We will use the `torchvision.datasets.CIFAR10` class to load CIFAR10 dataset.\n",
        "\n",
        "By default, the loaded data are in `PIL.Image` format, which are perfect for visualization. Let's take a look!"
      ]
    },
    {
      "cell_type": "code",
      "execution_count": null,
      "metadata": {
        "colab": {
          "base_uri": "https://localhost:8080/"
        },
        "id": "rfpG_Aq4HBqT",
        "outputId": "93dd4117-5097-4f4a-8931-3c6b5abaffb3"
      },
      "outputs": [
        {
          "output_type": "stream",
          "name": "stdout",
          "text": [
            "Downloading https://www.cs.toronto.edu/~kriz/cifar-10-python.tar.gz to ./data/cifar-10-python.tar.gz\n"
          ]
        },
        {
          "output_type": "stream",
          "name": "stderr",
          "text": [
            "100%|██████████| 170498071/170498071 [00:04<00:00, 34675118.27it/s]\n"
          ]
        },
        {
          "output_type": "stream",
          "name": "stdout",
          "text": [
            "Extracting ./data/cifar-10-python.tar.gz to ./data\n",
            "Files already downloaded and verified\n",
            "Training set size: 50000\n",
            "Validation set size: 10000\n",
            "CIFAR-10 classes: ['airplane', 'automobile', 'bird', 'cat', 'deer', 'dog', 'frog', 'horse', 'ship', 'truck']\n"
          ]
        }
      ],
      "source": [
        "%matplotlib inline\n",
        "\n",
        "import torchvision\n",
        "import numpy as np\n",
        "import matplotlib.pyplot as plt\n",
        "from PIL import Image\n",
        "\n",
        "\n",
        "def get_datasets(train_transforms=(), val_transforms=()):\n",
        "    r\"\"\"\n",
        "    Returns the CIFAR-10 training and validation datasets with corresponding\n",
        "    transforms.\n",
        "\n",
        "    `*_transforms` represent optional transformations, e.g., conversion to\n",
        "    PyTorch tensors, preprocessing, etc.\n",
        "    \"\"\"\n",
        "    train_set = torchvision.datasets.CIFAR10(\n",
        "        './data', train=True, download=True,\n",
        "        transform=torchvision.transforms.Compose(train_transforms))\n",
        "    val_set = torchvision.datasets.CIFAR10(\n",
        "        './data', train=False, download=True,\n",
        "        transform=torchvision.transforms.Compose(val_transforms))\n",
        "    return train_set, val_set\n",
        "\n",
        "\n",
        "train_set, val_set = get_datasets()\n",
        "\n",
        "print(f\"Training set size: {len(train_set)}\")\n",
        "print(f\"Validation set size: {len(val_set)}\")\n",
        "\n",
        "class_names = train_set.classes\n",
        "\n",
        "print(f'CIFAR-10 classes: {class_names}')"
      ]
    },
    {
      "cell_type": "markdown",
      "metadata": {
        "id": "eiv-WnXkblOZ"
      },
      "source": [
        "### Visualization"
      ]
    },
    {
      "cell_type": "code",
      "execution_count": null,
      "metadata": {
        "colab": {
          "base_uri": "https://localhost:8080/",
          "height": 255
        },
        "id": "CsCEwdjtHTze",
        "outputId": "e3d31f27-231e-4de7-93bf-54b529d7962c"
      },
      "outputs": [
        {
          "output_type": "stream",
          "name": "stdout",
          "text": [
            "data has type: <class 'PIL.Image.Image'>\n",
            "data has label: bird\n"
          ]
        },
        {
          "output_type": "execute_result",
          "data": {
            "text/plain": [
              "<PIL.Image.Image image mode=RGB size=200x200>"
            ],
            "image/png": "[encoded data removed]"
          },
          "metadata": {},
          "execution_count": 9
        }
      ],
      "source": [
        "# Pick a training sample\n",
        "\n",
        "data, label = train_set[13]\n",
        "print('data has type:', type(data))\n",
        "print('data has label:', class_names[label])\n",
        "data.resize((200, 200), resample=Image.NEAREST)"
      ]
    },
    {
      "cell_type": "markdown",
      "metadata": {
        "id": "L30ugpKebnL2"
      },
      "source": [
        "### Tenosr Conversion and Normalization"
      ]
    },
    {
      "cell_type": "markdown",
      "metadata": {
        "id": "96jgZCfFy7k5"
      },
      "source": [
        "For actual training, we will use a series of transforms to convert them into PyTorch tensors."
      ]
    },
    {
      "cell_type": "code",
      "execution_count": null,
      "metadata": {
        "colab": {
          "base_uri": "https://localhost:8080/"
        },
        "id": "M2ati9BLIaXQ",
        "outputId": "d3c6bece-8728-4f2e-c95c-cfe0101cbf2d"
      },
      "outputs": [
        {
          "output_type": "stream",
          "name": "stdout",
          "text": [
            "Files already downloaded and verified\n",
            "Files already downloaded and verified\n"
          ]
        }
      ],
      "source": [
        "data_transforms = [\n",
        "    # Converts PIL images into tensors with values in [0, 1].\n",
        "    # For RGB images, the output shape will be [3, width, height], where `3`\n",
        "    # represents three channels.\n",
        "    torchvision.transforms.ToTensor(),\n",
        "    # Normalize each of the three channels so that they have 0 mean and 1 std.\n",
        "    # Normalization is generally a good idea and particularly useful when different\n",
        "    # parts of your input have very different statistics.\n",
        "    torchvision.transforms.Normalize(mean=[0.4914, 0.4822, 0.4465], std=[0.2470, 0.2435, 0.2616]),\n",
        "]\n",
        "\n",
        "train_set, val_set = get_datasets(train_transforms=data_transforms, val_transforms=data_transforms)"
      ]
    },
    {
      "cell_type": "code",
      "execution_count": null,
      "metadata": {
        "colab": {
          "base_uri": "https://localhost:8080/"
        },
        "id": "3RCDJPb2Rdrk",
        "outputId": "58e311bd-61ac-469c-936f-9726b04f53fd"
      },
      "outputs": [
        {
          "output_type": "stream",
          "name": "stdout",
          "text": [
            "data has type: <class 'torch.Tensor'>\n",
            "data has shape: torch.Size([3, 32, 32])\n"
          ]
        }
      ],
      "source": [
        "# Now, the samples are tensors!\n",
        "data, label = train_set[13]\n",
        "print('data has type:', type(data))\n",
        "print('data has shape:', data.shape)"
      ]
    },
    {
      "cell_type": "markdown",
      "metadata": {
        "id": "L6xRAxngRR8o"
      },
      "source": [
        "We can still visualize the images in tensor format, as long as we properly permute the axes and un-normalize them!"
      ]
    },
    {
      "cell_type": "code",
      "execution_count": null,
      "metadata": {
        "colab": {
          "base_uri": "https://localhost:8080/",
          "height": 428
        },
        "id": "Ik3FdO5HRZr_",
        "outputId": "2075d59b-bfda-4e25-b714-d5b6a65f4e79"
      },
      "outputs": [
        {
          "output_type": "display_data",
          "data": {
            "text/plain": [
              "<Figure size 640x480 with 1 Axes>"
            ],
            "image/png": "[encoded data removed]"
          },
          "metadata": {}
        }
      ],
      "source": [
        "def visualize_tensor_data(data: torch.Tensor, label: int):\n",
        "    # Data is a tensor of shape [C, W, H]  (C is the channel dimension, 3 for RGB)\n",
        "    # Put channel at last\n",
        "    data = data.permute(1, 2, 0)\n",
        "    # Un-normalize\n",
        "    data = data * torch.as_tensor([0.2470, 0.2435, 0.2616]) + torch.as_tensor([0.4914, 0.4822, 0.4465])\n",
        "    plt.imshow(data)\n",
        "    plt.axis('off')\n",
        "    plt.title(f'Label = {class_names[label]}')\n",
        "\n",
        "visualize_tensor_data(data, label)"
      ]
    },
    {
      "cell_type": "markdown",
      "metadata": {
        "id": "3kZC2GFXHdlT"
      },
      "source": [
        "Remember, always visualize / play with the data!"
      ]
    },
    {
      "cell_type": "markdown",
      "metadata": {
        "id": "3ruPHahW2kVq"
      },
      "source": [
        "### Data Loaders\n",
        "For training, we operate on *batched* data. To easily load batched samples and targets, we use `torch.utils.data.DataLoader` and specify the desired batch size and order. For instance,"
      ]
    },
    {
      "cell_type": "code",
      "execution_count": null,
      "metadata": {
        "colab": {
          "base_uri": "https://localhost:8080/"
        },
        "id": "PwGjz2iW2kEB",
        "outputId": "a5651708-5e5c-4914-a3b0-fb54b31db3c3"
      },
      "outputs": [
        {
          "output_type": "stream",
          "name": "stdout",
          "text": [
            "number of batches = 98\n",
            "*batched* data shape = torch.Size([512, 3, 32, 32])   *batched* target shape = torch.Size([512])\n"
          ]
        }
      ],
      "source": [
        "loader = torch.utils.data.DataLoader(\n",
        "    train_set,       # The dataset to loade\n",
        "    batch_size=512,  # Desired batch size\n",
        "    shuffle=True,    # Whether the batches are random samples of the dataset (without replacement), or sequential segments\n",
        "    num_workers=2,\n",
        ")\n",
        "\n",
        "print('number of batches =', len(loader))\n",
        "\n",
        "# You can easily iterate through it to get data\n",
        "for data, target in loader:\n",
        "    print('*batched* data shape =', data.shape, '  *batched* target shape =', target.shape)\n",
        "    break"
      ]
    },
    {
      "cell_type": "markdown",
      "metadata": {
        "id": "oAW_ElprIlZd"
      },
      "source": [
        "## Training a Neural Network\n",
        "\n",
        "**Question 2**: Now, write our training and evaluation functions. Understand the following functions. Follow the comments and fill in the incomplete parts (indicated by `FIXME`), each using `<= 5` lines of code. Add your code to the submission pdf."
      ]
    },
    {
      "cell_type": "code",
      "execution_count": null,
      "metadata": {
        "id": "TyU21dzCIzGS"
      },
      "outputs": [],
      "source": [
        "import dataclasses\n",
        "from tqdm.auto import tqdm\n",
        "\n",
        "\n",
        "def train_epoch(epoch: int, model, train_loader, lr: float):\n",
        "    r\"\"\"\n",
        "    Trains `model` on `train_loader` with learning rate `lr` for one epoch.\n",
        "\n",
        "    Returns the losses computed at each iteration.\n",
        "    \"\"\"\n",
        "    # Loss function to train our classifier\n",
        "    loss_fn = CrossEntropyLoss()\n",
        "\n",
        "    loss_values: List[float] = []\n",
        "\n",
        "    # Iterate through the training dataset via `train_loader`\n",
        "    for data, target in tqdm(train_loader, desc=f'Training @ epoch {epoch}'):\n",
        "        # `data` and `target` here are **batched** tensors!\n",
        "        # Convert data and target to proper device for training\n",
        "        data = data.to(device).flatten(1)  # flatten image data into batched vectors\n",
        "        target = target.to(device)\n",
        "        # Clear out any previously computed gradient\n",
        "        model.zero_grad()\n",
        "\n",
        "        # Forward pass the model\n",
        "        output = model(data)\n",
        "\n",
        "        # Compute loss\n",
        "        loss = loss_fn(output, target)\n",
        "        loss_values.append(loss.item())\n",
        "\n",
        "        # Backpropagate\n",
        "        dLdout = loss_fn.backward(torch.ones((), device=device))  # pass an explicit one because we are computing derivatives w.r.t. the loss itself\n",
        "        model.backward(dLdout)\n",
        "\n",
        "        # Stochastic gradient descent (SGD)\n",
        "        # FIXME\n",
        "        # Here for each `p` a parameter to be optimized, and you want to update it with `p.grad`, the computed `dL/dp`\n",
        "        pass\n",
        "\n",
        "    return loss_values\n",
        "\n",
        "\n",
        "def evaluate(model, loader):\n",
        "    r\"\"\"\n",
        "    Instead of computing losses, we track the true classification accuracy,\n",
        "    where, when the model predicts a distribution over labels, the predicted\n",
        "    label is taken as one with highest probability.\n",
        "    \"\"\"\n",
        "    correct_predictions = 0\n",
        "    for data, target in loader:\n",
        "        data = data.to(device).flatten(1)  # flatten image data into batched vectors\n",
        "        target = target.to(device)\n",
        "        # Update `correct_predictions`.\n",
        "        # Make sure that you add a *Python number*, not a *PyTorch scalar*.\n",
        "        # Remember that you can use `pytorch_scalar.item()` to get its content\n",
        "        # as a Python number.\n",
        "        # FIXME\n",
        "        pass\n",
        "\n",
        "\n",
        "@dataclasses.dataclass\n",
        "class TrainResult:\n",
        "    r\"\"\"\n",
        "    A collection containing everything we need to know about the training results\n",
        "    \"\"\"\n",
        "\n",
        "    num_epochs: int\n",
        "    lr: float\n",
        "\n",
        "    # The trained model\n",
        "    model: Network\n",
        "\n",
        "    # Training loss (saved at each iteration in `train_epoch`)\n",
        "    train_losses: List[float]\n",
        "\n",
        "    # Training accuracies, before training and after each epoch\n",
        "    train_accs: List[float]\n",
        "\n",
        "    # Validation accuracies, before training and after each epoch\n",
        "    val_accs: List[float]\n",
        "\n",
        "\n",
        "def train(train_set, val_set, *, num_epochs=30, lr=0.2):\n",
        "    # Data loaders\n",
        "    train_loader = torch.utils.data.DataLoader(train_set, batch_size=256, shuffle=True)  # Random order for training (\"[S]tochastic\" in SGD)\n",
        "    val_loader = torch.utils.data.DataLoader(val_set, batch_size=1024, shuffle=False)\n",
        "\n",
        "    # Our classifier\n",
        "    image_tensor_size = train_set[0][0].numel()\n",
        "    model = Network(input_dim=image_tensor_size, device=device)\n",
        "    print('Model =', model)\n",
        "\n",
        "    result: TrainResult = TrainResult(num_epochs, lr, model, train_losses=[], train_accs=[], val_accs=[])\n",
        "    result.train_accs.append(evaluate(model, train_loader))\n",
        "    result.val_accs.append(evaluate(model, val_loader))\n",
        "\n",
        "    # Iterate through the entire training dataset `num_epochs` times\n",
        "    for epoch in range(num_epochs):\n",
        "        # Train over the entire `train_set` with our `train_epoch` function (i.e., one epoch)\n",
        "        result.train_losses.extend(train_epoch(epoch, model, train_loader, lr=lr))\n",
        "        # Evaluate with our `evaluate` function\n",
        "        result.train_accs.append(evaluate(model, train_loader))\n",
        "        result.val_accs.append(evaluate(model, val_loader))\n",
        "        print(f\"Epoch = {epoch:> 2d}    Train loss = {result.train_losses[-1]:.4f}    Train acc = {result.train_accs[-1]:.2%}    Val acc = {result.val_accs[-1]:.2%}\")\n",
        "\n",
        "    return result"
      ]
    },
    {
      "cell_type": "markdown",
      "metadata": {
        "id": "5pgm8jF8BHrG"
      },
      "source": [
        "Now let's perform training! Loss may not seem going down much in the first few epochs, but can decrease much faster later.\n",
        "\n",
        "> NOTE: We are training for 30 epochs, which may take up to 15~20 minutes (including evaluation). Normally, it is not necessary to evaluate on the full validation set after each training epoch. But let's do that for this task, to better see the trends of training and validation accuracies."
      ]
    },
    {
      "cell_type": "code",
      "execution_count": null,
      "metadata": {
        "colab": {
          "base_uri": "https://localhost:8080/",
          "height": 333,
          "referenced_widgets": [
            "7a27d78d4e5a4059a170985ca8855c8e",
            "297f34da91404e079ddaad3ee716b0a6",
            "50e6380248d0450bb5bb0105bfe08d58",
            "6140ad07dade4d428302b9d73b01e282",
            "2f2e0110fbbe4322ab3b993c7849dbb9",
            "4933dbf31e6c4376a805caa49afebd4a",
            "2b95416c7c9340e89d8ad7c88adfb7b3",
            "4a153531b4b24bcc829a18fb8fd61147",
            "913c54651d964d40a54dfe19edc0624c",
            "ba8f559c17f34fe58444f731037a64bd",
            "925dde111c8d4ce8aa501da58e7ed525",
            "0a63b9e52fac468ea7d7813ab470b93c",
            "7f95b3cb27584eeea822b9a590add80d",
            "7991118a04624fc58eba208024a0ff5b",
            "969dceee7c0b40e396355bb776173674",
            "c818c605a09a4d92927dd81ce0c8c1e8",
            "f19728b5ef45487c87559f4166e9a457",
            "9f79be53152a49498730c90b6b5c4884",
            "a4657e0578a6452a8e53697744eba119",
            "aee4be8e50a64e928baf543eb3a119e9",
            "cd26d7e125384e31a1f35d5fe84809b8",
            "c2fd7ce7a26646d9a92f5084d05fe5e5",
            "718d6ae8615544139fec5881fb40e29f",
            "a9082afa6d0149689f9938238ad0e665",
            "19a2971b206d4e4eb5ef5320aea809c7",
            "fd732036535c4a8b8757fbd839b6ac0e",
            "1936a8a9700e4ab8b26b545be9f366e6",
            "3f7f11b37dbe443bb54fc938690611f8",
            "a272596cdd354cc0a82459e409859c9d",
            "dc31735ff4a9432f93375ba2d7ea8dd0",
            "f4381acdba63412494bad7e9c8ee6ec2",
            "7c784f35332b4a54a15daa6aad53f8df",
            "4d6ec96a1f7542d584e06d071891391c",
            "be32ca73c788435c853d42f57296b55c",
            "2698953271674c4bb744d5a9592936e1",
            "d0237c98259143929e6afa7ff568d717",
            "5cb05f04192241cdb9c37fe2019294b5",
            "bce95dd2bef9442eb7bcf6653e7b4aaa",
            "5294132916404eb196b8b5515388f03b",
            "06d8d5ca9b754841b9de656066d9b19e",
            "a4c456789ec54ca2924735a784d44f17",
            "2f9700db18504b189d39f9f5967c21af",
            "4bef92baf19a4c0db6db0dfecc0015c7",
            "b19149b0094a4ae7b9c7ecc7832a694c"
          ]
        },
        "id": "0trcJGYcN-SK",
        "outputId": "8cf35a1c-0079-4856-881b-c1ca4fa946ba"
      },
      "outputs": [
        {
          "output_type": "stream",
          "name": "stdout",
          "text": [
            "Model = Network(\n",
            "    Linear(in=3072, out=8192)\n",
            "    ReLU()\n",
            "    Linear(in=8192, out=8192)\n",
            "    ReLU()\n",
            "    Linear(in=8192, out=10)\n",
            ")\n"
          ]
        },
        {
          "output_type": "display_data",
          "data": {
            "text/plain": [
              "Training @ epoch 0:   0%|          | 0/196 [00:00<?, ?it/s]"
            ],
            "application/vnd.jupyter.widget-view+json": {
              "version_major": 2,
              "version_minor": 0,
              "model_id": "7a27d78d4e5a4059a170985ca8855c8e"
            }
          },
          "metadata": {}
        },
        {
          "output_type": "stream",
          "name": "stdout",
          "text": [
            "Epoch =  0    Train loss = 2.3024    Train acc = 10.00%    Val acc = 10.03%\n"
          ]
        },
        {
          "output_type": "display_data",
          "data": {
            "text/plain": [
              "Training @ epoch 1:   0%|          | 0/196 [00:00<?, ?it/s]"
            ],
            "application/vnd.jupyter.widget-view+json": {
              "version_major": 2,
              "version_minor": 0,
              "model_id": "0a63b9e52fac468ea7d7813ab470b93c"
            }
          },
          "metadata": {}
        },
        {
          "output_type": "stream",
          "name": "stdout",
          "text": [
            "Epoch =  1    Train loss = 2.0847    Train acc = 18.09%    Val acc = 18.09%\n"
          ]
        },
        {
          "output_type": "display_data",
          "data": {
            "text/plain": [
              "Training @ epoch 2:   0%|          | 0/196 [00:00<?, ?it/s]"
            ],
            "application/vnd.jupyter.widget-view+json": {
              "version_major": 2,
              "version_minor": 0,
              "model_id": "718d6ae8615544139fec5881fb40e29f"
            }
          },
          "metadata": {}
        },
        {
          "output_type": "stream",
          "name": "stdout",
          "text": [
            "Epoch =  2    Train loss = 1.7981    Train acc = 31.93%    Val acc = 31.98%\n"
          ]
        },
        {
          "output_type": "display_data",
          "data": {
            "text/plain": [
              "Training @ epoch 3:   0%|          | 0/196 [00:00<?, ?it/s]"
            ],
            "application/vnd.jupyter.widget-view+json": {
              "version_major": 2,
              "version_minor": 0,
              "model_id": "be32ca73c788435c853d42f57296b55c"
            }
          },
          "metadata": {}
        }
      ],
      "source": [
        "# This will take a while\n",
        "result = train(train_set, val_set, num_epochs=30, lr=0.15)"
      ]
    },
    {
      "cell_type": "markdown",
      "metadata": {
        "id": "EONYqkk0bsvG"
      },
      "source": [
        "### Visualize Learning Curves"
      ]
    },
    {
      "cell_type": "code",
      "execution_count": null,
      "metadata": {
        "id": "2af5DQgeYQsr"
      },
      "outputs": [],
      "source": [
        "def learning_curve(result: TrainResult, *, title: str = 'Learning Curve'):\n",
        "    r\"\"\"\n",
        "    Plot the training loss, training accuracy, and validation accuracy versus\n",
        "    epochs taken.\n",
        "    \"\"\"\n",
        "    fig, ax_loss = plt.subplots(figsize=(8, 5))\n",
        "    ax_loss.set_title(title, fontsize=16)\n",
        "    ax_loss.set_xlabel('Epoch', fontsize=12)\n",
        "\n",
        "    l_trloss = ax_loss.plot(\n",
        "        torch.arange(len(result.train_losses)) / len(result.train_losses) * result.num_epochs,\n",
        "        result.train_losses,\n",
        "        label='Train loss',\n",
        "        color='C0',\n",
        "    )\n",
        "    ax_loss.set_ylim(0, 3)\n",
        "    ax_loss.set_ylabel('Train loss', color='C0', fontsize=12)\n",
        "    ax_loss.tick_params(axis='y', labelcolor='C0')\n",
        "\n",
        "    ax_acc = ax_loss.twinx()\n",
        "    l_tracc = ax_acc.plot(result.train_accs, label='Train acc', color='C1', linestyle='--')\n",
        "    if len(result.val_accs):\n",
        "        l_valacc = ax_acc.plot(result.val_accs, label='Val acc', color='C1')\n",
        "    else:\n",
        "        l_valacc = []\n",
        "    ax_acc.set_ylim(0, 1)\n",
        "    ax_acc.set_ylabel('Accuracies', color='C1', fontsize=12)\n",
        "    ax_acc.tick_params(axis='y', labelcolor='C1')\n",
        "\n",
        "    lines = l_trloss + l_tracc + l_valacc\n",
        "    ax_loss.legend(lines, [l.get_label() for l in lines], loc='upper left', fontsize=13)"
      ]
    },
    {
      "cell_type": "code",
      "execution_count": null,
      "metadata": {
        "id": "flr1vM51Bt2q"
      },
      "outputs": [],
      "source": [
        "learning_curve(result)"
      ]
    },
    {
      "cell_type": "markdown",
      "metadata": {
        "id": "7P6BDc0rLit4"
      },
      "source": [
        "**Question 3**: Put the above training curve plot in your submission. Comment on any interesting observations.\n",
        "\n",
        "----"
      ]
    },
    {
      "cell_type": "markdown",
      "metadata": {
        "id": "VZpMpqRDWX5x"
      },
      "source": [
        "**Question 4**: Neural networks are universal approximators, which means that we can always find a network that fits the training set. Why do you think that we didn't get perfect training accuracy? Write down some ideas for improving training accuracy. Is a perfect training accuracy all we need?\n",
        "\n",
        "----"
      ]
    },
    {
      "cell_type": "markdown",
      "metadata": {
        "id": "JymBuq25L2qu"
      },
      "source": [
        "## Data Augmentation\n",
        "\n",
        "The simplest way to reduce overfitting is to collect more training data. In fact, even with a fixed training set, we can add data augmentations that randomly augment each training image so that we, in a way, increase the effective training dataset size.\n",
        "\n",
        "There are also other ways\n",
        "+ Increase training set size\n",
        "+ Use a more restricted model class (function class) at the cost of not finding as good models\n",
        "+ Regularize the model (e.g., smooth classification boundaries, smoother functions).\n",
        "\n",
        "Here, let's try data augmentations!"
      ]
    },
    {
      "cell_type": "markdown",
      "metadata": {
        "id": "9BAGEQ7sMpDU"
      },
      "source": [
        "Above we used the following function to create the datasets:\n",
        "```py\n",
        "def get_datasets(train_transforms=(), val_transforms=()) -> Tuple[Dataset, Dataset]:\n",
        "    r\"\"\"\n",
        "    Returns the CIFAR-10 training and validation datasets with corresponding\n",
        "    transforms.\n",
        "    \"\"\"\n",
        "```\n",
        "using only the conversion and normalization transforms:\n",
        "```py\n",
        "data_transforms = [\n",
        "    torchvision.transforms.ToTensor(),\n",
        "    torchvision.transforms.Normalize(mean=[0.4914, 0.4822, 0.4465], std=[0.2470, 0.2435, 0.2616]),\n",
        "]\n",
        "```\n",
        "\n",
        "\n",
        "**Question 5**: Referencing the [`torchvision.transforms`](https://pytorch.org/vision/0.13/transforms.html) documentation page, create training and validation datasets, where **only the training set** has\n",
        "1. A random cropping augmentation. The cropping should still produce `32x32` images, after padding the image with size `3` (i.e., `3` pixels on each side) with **reflected** borders\n",
        "2. A random horizontal flipping (with probability $0.5$)\n",
        "\n",
        "Please\n",
        "+ Add your code to the submission pdf.\n",
        "+ Visualize the effect of the added augmentation. Plot the `aug_train_set[13]` **multiple times** using the `visualize_tensor_data` function we used above. Attach the images to pdf.\n",
        "\n",
        "You should be able to add the augmentation with two `torchvision.transforms.*` objects."
      ]
    },
    {
      "cell_type": "code",
      "execution_count": null,
      "metadata": {
        "id": "84mybYWmemgR"
      },
      "outputs": [],
      "source": [
        "# FIXME\n",
        "aug_train_set, val_set = '????' # get_datasets(?, ?)"
      ]
    },
    {
      "cell_type": "code",
      "execution_count": null,
      "metadata": {
        "id": "d9c2QWX6ggmV"
      },
      "outputs": [],
      "source": [
        "assert tuple(aug_train_set[13][0].shape) == (3, 32, 32)\n",
        "visualize_tensor_data(*aug_train_set[13])"
      ]
    },
    {
      "cell_type": "code",
      "execution_count": null,
      "metadata": {
        "id": "H7itAWxEglf-"
      },
      "outputs": [],
      "source": [
        "# A new *randomly* augmented sample. Do this a few times. They should look different than the sample above.\n",
        "visualize_tensor_data(*aug_train_set[13])"
      ]
    },
    {
      "cell_type": "code",
      "execution_count": null,
      "metadata": {
        "id": "brEDO-wbgmPa"
      },
      "outputs": [],
      "source": [
        "visualize_tensor_data(*aug_train_set[13])"
      ]
    },
    {
      "cell_type": "code",
      "source": [
        "visualize_tensor_data(*aug_train_set[13])"
      ],
      "metadata": {
        "id": "qx8IQLzIO5oH"
      },
      "execution_count": null,
      "outputs": []
    },
    {
      "cell_type": "code",
      "source": [
        "visualize_tensor_data(*aug_train_set[13])"
      ],
      "metadata": {
        "id": "oKXss91QTkjf"
      },
      "execution_count": null,
      "outputs": []
    },
    {
      "cell_type": "markdown",
      "metadata": {
        "id": "B5zxh1jpOXlC"
      },
      "source": [
        "**Question 6**: Train a new model on the augmented training set. Attach its learning curve and comment on any observed differences from the previous training."
      ]
    },
    {
      "cell_type": "code",
      "execution_count": null,
      "metadata": {
        "id": "xJt3b8iWJClO"
      },
      "outputs": [],
      "source": [
        "# Again, this will take a while\n",
        "aug_result = train(aug_train_set, val_set, num_epochs=30, lr=0.15)"
      ]
    },
    {
      "cell_type": "code",
      "execution_count": null,
      "metadata": {
        "id": "KbYzGzHPevVp"
      },
      "outputs": [],
      "source": [
        "learning_curve(aug_result)"
      ]
    },
    {
      "cell_type": "markdown",
      "metadata": {
        "id": "rsNT5mcvUivu"
      },
      "source": [
        "---\n",
        "\n",
        "## Optional (0 points): Fitting Random Labels\n",
        "\n",
        "Having trained a classifier on a real-image dataset, let's do something that may seem at first a little bizzare.\n",
        "\n",
        "We will still train a classifier on CIFAR-10, except that instead of using real labels, we randomly assign each training image a label (uniformly sampled from $[0, \\dots, 9]$, and try to fit these random labels.\n",
        "\n",
        "How well do you expect that the model can fit the dataset?\n",
        "\n",
        "Here our focus is **approximation**, i.e., finding a network that fits the `image[i] -> random_label[i]` mapping. Universal approximation tells us that such a network exists (with sufficent width and depth). (Think about the implication this statement has on generalization.)\n",
        "\n",
        "Can we find one by SGD training?"
      ]
    },
    {
      "cell_type": "markdown",
      "source": [
        "### Dataset with random labels"
      ],
      "metadata": {
        "id": "Qn47AtTKMbGq"
      }
    },
    {
      "cell_type": "code",
      "execution_count": null,
      "metadata": {
        "id": "zWpRqfT0VR0x"
      },
      "outputs": [],
      "source": [
        "# Create `get_train_dataset_with_random_labels` and `train_without_validation` functions that we will use!\n",
        "\n",
        "class RandomLabelWrapper:\n",
        "    def __init__(self, inner_dataset, random_labels):\n",
        "        self.inner_dataset = inner_dataset\n",
        "        self.random_labels = random_labels\n",
        "        assert len(random_labels) == len(inner_dataset)\n",
        "\n",
        "    def __getitem__(self, idx):\n",
        "        return self.inner_dataset[idx][0], self.random_labels[idx]\n",
        "\n",
        "    def __len__(self):\n",
        "        return len(self.inner_dataset)\n",
        "\n",
        "\n",
        "# Download a pre-generated list of random labels\n",
        "!gdown 1_jTloNN_ZBxRoRTN7DCSU9JHr3ZFoEtX\n",
        "random_labels = torch.load('cifar10_random_label.pth')\n",
        "\n",
        "\n",
        "def get_train_dataset_with_random_labels(train_transforms=()):\n",
        "    r\"\"\"\n",
        "    Returns the CIFAR-10 training datasets with *random labels* and\n",
        "    corresponding transforms.\n",
        "\n",
        "    `*_transforms` represent optional transformations, e.g., conversion to\n",
        "    PyTorch tensors, preprocessing, etc.\n",
        "    \"\"\"\n",
        "    return RandomLabelWrapper(\n",
        "        torchvision.datasets.CIFAR10(\n",
        "            './data', train=True, download=True,\n",
        "            transform=torchvision.transforms.Compose(train_transforms)),\n",
        "        random_labels,\n",
        "    )"
      ]
    },
    {
      "cell_type": "markdown",
      "metadata": {
        "id": "caLzM2n0Zuz5"
      },
      "source": [
        "Always, visualize data :)"
      ]
    },
    {
      "cell_type": "code",
      "execution_count": null,
      "metadata": {
        "id": "I4_omViJZyNm"
      },
      "outputs": [],
      "source": [
        "dataset = get_train_dataset_with_random_labels(data_transforms)"
      ]
    },
    {
      "cell_type": "code",
      "execution_count": null,
      "metadata": {
        "id": "Jd_cO8LPewbD"
      },
      "outputs": [],
      "source": [
        "data, label = dataset[13]\n",
        "visualize_tensor_data(data, label)  # a randomly assigned label!"
      ]
    },
    {
      "cell_type": "markdown",
      "metadata": {
        "id": "OpngHY9carN1"
      },
      "source": [
        "**Question 7**: Train a model to fit the provided CIFAR-10 variant with random labels. Read through and **understand** the following `train_without_validation` function.\n",
        "\n",
        "If you want to, make any modification to training (but do not change the dataset). How well can you do? Why are we omitting validation here compared to previous settings? Will adding augmentation help? List all changes you make, plot the learning curves and comment on the result.\n",
        "    \n",
        "For this question, do not worry much about the results you get. If you get good results, think about the implication on generalization, and comment on any changes you made (if any). If you don't get good results, think about what makes this a hard task, and the relation between universal approximation and our training procedure."
      ]
    },
    {
      "cell_type": "code",
      "source": [
        "def train_without_validation(train_set, *, num_epochs=30, lr=0.2):\n",
        "    # Data loaders\n",
        "    train_loader = torch.utils.data.DataLoader(train_set, batch_size=256, shuffle=True)  # Random order for training (\"stochastic\" in SGD)\n",
        "\n",
        "    # Our classifier\n",
        "    model = Network(input_dim=train_set[0][0].numel(), device=device)\n",
        "    print('Model =', model)\n",
        "\n",
        "    result: TrainResult = TrainResult(num_epochs, lr, model, train_losses=[], train_accs=[], val_accs=[])\n",
        "    result.train_accs.append(evaluate(model, train_loader))\n",
        "\n",
        "    # Iterate through the entire training dataset `num_epochs` times\n",
        "    for epoch in range(num_epochs):\n",
        "        # Train over the entire `train_set` with our `train_epoch` function (i.e., one epoch)\n",
        "        result.train_losses.extend(train_epoch(epoch, model, train_loader, lr=lr))\n",
        "        # Evaluate with our `evaluate` function\n",
        "        result.train_accs.append(evaluate(model, train_loader))\n",
        "        print(f\"Epoch = {epoch:> 2d}    Train loss = {result.train_losses[-1]:.4f}    Train acc = {result.train_accs[-1]:.2%}\")\n",
        "\n",
        "    return result"
      ],
      "metadata": {
        "id": "2JBnz1mQMfv5"
      },
      "execution_count": null,
      "outputs": []
    },
    {
      "cell_type": "code",
      "execution_count": null,
      "metadata": {
        "id": "c5U2tWOgZi4Q"
      },
      "outputs": [],
      "source": [
        "# FIXME: train and plot curves\n",
        "\n",
        "rand_label_result = '???'"
      ]
    },
    {
      "cell_type": "code",
      "source": [
        "learning_curve(rand_label_result)"
      ],
      "metadata": {
        "id": "-stlY8EW2srB"
      },
      "execution_count": null,
      "outputs": []
    },
    {
      "cell_type": "code",
      "source": [],
      "metadata": {
        "id": "fb_uhmRGN4lo"
      },
      "execution_count": null,
      "outputs": []
    }
  ],
  "metadata": {
    "accelerator": "GPU",
    "colab": {
      "provenance": [],
      "include_colab_link": true
    },
    "gpuClass": "standard",
    "kernelspec": {
      "display_name": "Python 3",
      "language": "python",
      "name": "python3"
    },
    "language_info": {
      "codemirror_mode": {
        "name": "ipython",
        "version": 3
      },
      "file_extension": ".py",
      "mimetype": "text/x-python",
      "name": "python",
      "nbconvert_exporter": "python",
      "pygments_lexer": "ipython3",
      "version": "3.6.5"
    },
    "widgets": {
      "application/vnd.jupyter.widget-state+json": {
        "7a27d78d4e5a4059a170985ca8855c8e": {
          "model_module": "@jupyter-widgets/controls",
          "model_name": "HBoxModel",
          "model_module_version": "1.5.0",
          "state": {
            "_dom_classes": [],
            "_model_module": "@jupyter-widgets/controls",
            "_model_module_version": "1.5.0",
            "_model_name": "HBoxModel",
            "_view_count": null,
            "_view_module": "@jupyter-widgets/controls",
            "_view_module_version": "1.5.0",
            "_view_name": "HBoxView",
            "box_style": "",
            "children": [
              "IPY_MODEL_297f34da91404e079ddaad3ee716b0a6",
              "IPY_MODEL_50e6380248d0450bb5bb0105bfe08d58",
              "IPY_MODEL_6140ad07dade4d428302b9d73b01e282"
            ],
            "layout": "IPY_MODEL_2f2e0110fbbe4322ab3b993c7849dbb9"
          }
        },
        "297f34da91404e079ddaad3ee716b0a6": {
          "model_module": "@jupyter-widgets/controls",
          "model_name": "HTMLModel",
          "model_module_version": "1.5.0",
          "state": {
            "_dom_classes": [],
            "_model_module": "@jupyter-widgets/controls",
            "_model_module_version": "1.5.0",
            "_model_name": "HTMLModel",
            "_view_count": null,
            "_view_module": "@jupyter-widgets/controls",
            "_view_module_version": "1.5.0",
            "_view_name": "HTMLView",
            "description": "",
            "description_tooltip": null,
            "layout": "IPY_MODEL_4933dbf31e6c4376a805caa49afebd4a",
            "placeholder": "​",
            "style": "IPY_MODEL_2b95416c7c9340e89d8ad7c88adfb7b3",
            "value": "Training @ epoch 0: 100%"
          }
        },
        "50e6380248d0450bb5bb0105bfe08d58": {
          "model_module": "@jupyter-widgets/controls",
          "model_name": "FloatProgressModel",
          "model_module_version": "1.5.0",
          "state": {
            "_dom_classes": [],
            "_model_module": "@jupyter-widgets/controls",
            "_model_module_version": "1.5.0",
            "_model_name": "FloatProgressModel",
            "_view_count": null,
            "_view_module": "@jupyter-widgets/controls",
            "_view_module_version": "1.5.0",
            "_view_name": "ProgressView",
            "bar_style": "success",
            "description": "",
            "description_tooltip": null,
            "layout": "IPY_MODEL_4a153531b4b24bcc829a18fb8fd61147",
            "max": 196,
            "min": 0,
            "orientation": "horizontal",
            "style": "IPY_MODEL_913c54651d964d40a54dfe19edc0624c",
            "value": 196
          }
        },
        "6140ad07dade4d428302b9d73b01e282": {
          "model_module": "@jupyter-widgets/controls",
          "model_name": "HTMLModel",
          "model_module_version": "1.5.0",
          "state": {
            "_dom_classes": [],
            "_model_module": "@jupyter-widgets/controls",
            "_model_module_version": "1.5.0",
            "_model_name": "HTMLModel",
            "_view_count": null,
            "_view_module": "@jupyter-widgets/controls",
            "_view_module_version": "1.5.0",
            "_view_name": "HTMLView",
            "description": "",
            "description_tooltip": null,
            "layout": "IPY_MODEL_ba8f559c17f34fe58444f731037a64bd",
            "placeholder": "​",
            "style": "IPY_MODEL_925dde111c8d4ce8aa501da58e7ed525",
            "value": " 196/196 [00:16&lt;00:00, 13.88it/s]"
          }
        },
        "2f2e0110fbbe4322ab3b993c7849dbb9": {
          "model_module": "@jupyter-widgets/base",
          "model_name": "LayoutModel",
          "model_module_version": "1.2.0",
          "state": {
            "_model_module": "@jupyter-widgets/base",
            "_model_module_version": "1.2.0",
            "_model_name": "LayoutModel",
            "_view_count": null,
            "_view_module": "@jupyter-widgets/base",
            "_view_module_version": "1.2.0",
            "_view_name": "LayoutView",
            "align_content": null,
            "align_items": null,
            "align_self": null,
            "border": null,
            "bottom": null,
            "display": null,
            "flex": null,
            "flex_flow": null,
            "grid_area": null,
            "grid_auto_columns": null,
            "grid_auto_flow": null,
            "grid_auto_rows": null,
            "grid_column": null,
            "grid_gap": null,
            "grid_row": null,
            "grid_template_areas": null,
            "grid_template_columns": null,
            "grid_template_rows": null,
            "height": null,
            "justify_content": null,
            "justify_items": null,
            "left": null,
            "margin": null,
            "max_height": null,
            "max_width": null,
            "min_height": null,
            "min_width": null,
            "object_fit": null,
            "object_position": null,
            "order": null,
            "overflow": null,
            "overflow_x": null,
            "overflow_y": null,
            "padding": null,
            "right": null,
            "top": null,
            "visibility": null,
            "width": null
          }
        },
        "4933dbf31e6c4376a805caa49afebd4a": {
          "model_module": "@jupyter-widgets/base",
          "model_name": "LayoutModel",
          "model_module_version": "1.2.0",
          "state": {
            "_model_module": "@jupyter-widgets/base",
            "_model_module_version": "1.2.0",
            "_model_name": "LayoutModel",
            "_view_count": null,
            "_view_module": "@jupyter-widgets/base",
            "_view_module_version": "1.2.0",
            "_view_name": "LayoutView",
            "align_content": null,
            "align_items": null,
            "align_self": null,
            "border": null,
            "bottom": null,
            "display": null,
            "flex": null,
            "flex_flow": null,
            "grid_area": null,
            "grid_auto_columns": null,
            "grid_auto_flow": null,
            "grid_auto_rows": null,
            "grid_column": null,
            "grid_gap": null,
            "grid_row": null,
            "grid_template_areas": null,
            "grid_template_columns": null,
            "grid_template_rows": null,
            "height": null,
            "justify_content": null,
            "justify_items": null,
            "left": null,
            "margin": null,
            "max_height": null,
            "max_width": null,
            "min_height": null,
            "min_width": null,
            "object_fit": null,
            "object_position": null,
            "order": null,
            "overflow": null,
            "overflow_x": null,
            "overflow_y": null,
            "padding": null,
            "right": null,
            "top": null,
            "visibility": null,
            "width": null
          }
        },
        "2b95416c7c9340e89d8ad7c88adfb7b3": {
          "model_module": "@jupyter-widgets/controls",
          "model_name": "DescriptionStyleModel",
          "model_module_version": "1.5.0",
          "state": {
            "_model_module": "@jupyter-widgets/controls",
            "_model_module_version": "1.5.0",
            "_model_name": "DescriptionStyleModel",
            "_view_count": null,
            "_view_module": "@jupyter-widgets/base",
            "_view_module_version": "1.2.0",
            "_view_name": "StyleView",
            "description_width": ""
          }
        },
        "4a153531b4b24bcc829a18fb8fd61147": {
          "model_module": "@jupyter-widgets/base",
          "model_name": "LayoutModel",
          "model_module_version": "1.2.0",
          "state": {
            "_model_module": "@jupyter-widgets/base",
            "_model_module_version": "1.2.0",
            "_model_name": "LayoutModel",
            "_view_count": null,
            "_view_module": "@jupyter-widgets/base",
            "_view_module_version": "1.2.0",
            "_view_name": "LayoutView",
            "align_content": null,
            "align_items": null,
            "align_self": null,
            "border": null,
            "bottom": null,
            "display": null,
            "flex": null,
            "flex_flow": null,
            "grid_area": null,
            "grid_auto_columns": null,
            "grid_auto_flow": null,
            "grid_auto_rows": null,
            "grid_column": null,
            "grid_gap": null,
            "grid_row": null,
            "grid_template_areas": null,
            "grid_template_columns": null,
            "grid_template_rows": null,
            "height": null,
            "justify_content": null,
            "justify_items": null,
            "left": null,
            "margin": null,
            "max_height": null,
            "max_width": null,
            "min_height": null,
            "min_width": null,
            "object_fit": null,
            "object_position": null,
            "order": null,
            "overflow": null,
            "overflow_x": null,
            "overflow_y": null,
            "padding": null,
            "right": null,
            "top": null,
            "visibility": null,
            "width": null
          }
        },
        "913c54651d964d40a54dfe19edc0624c": {
          "model_module": "@jupyter-widgets/controls",
          "model_name": "ProgressStyleModel",
          "model_module_version": "1.5.0",
          "state": {
            "_model_module": "@jupyter-widgets/controls",
            "_model_module_version": "1.5.0",
            "_model_name": "ProgressStyleModel",
            "_view_count": null,
            "_view_module": "@jupyter-widgets/base",
            "_view_module_version": "1.2.0",
            "_view_name": "StyleView",
            "bar_color": null,
            "description_width": ""
          }
        },
        "ba8f559c17f34fe58444f731037a64bd": {
          "model_module": "@jupyter-widgets/base",
          "model_name": "LayoutModel",
          "model_module_version": "1.2.0",
          "state": {
            "_model_module": "@jupyter-widgets/base",
            "_model_module_version": "1.2.0",
            "_model_name": "LayoutModel",
            "_view_count": null,
            "_view_module": "@jupyter-widgets/base",
            "_view_module_version": "1.2.0",
            "_view_name": "LayoutView",
            "align_content": null,
            "align_items": null,
            "align_self": null,
            "border": null,
            "bottom": null,
            "display": null,
            "flex": null,
            "flex_flow": null,
            "grid_area": null,
            "grid_auto_columns": null,
            "grid_auto_flow": null,
            "grid_auto_rows": null,
            "grid_column": null,
            "grid_gap": null,
            "grid_row": null,
            "grid_template_areas": null,
            "grid_template_columns": null,
            "grid_template_rows": null,
            "height": null,
            "justify_content": null,
            "justify_items": null,
            "left": null,
            "margin": null,
            "max_height": null,
            "max_width": null,
            "min_height": null,
            "min_width": null,
            "object_fit": null,
            "object_position": null,
            "order": null,
            "overflow": null,
            "overflow_x": null,
            "overflow_y": null,
            "padding": null,
            "right": null,
            "top": null,
            "visibility": null,
            "width": null
          }
        },
        "925dde111c8d4ce8aa501da58e7ed525": {
          "model_module": "@jupyter-widgets/controls",
          "model_name": "DescriptionStyleModel",
          "model_module_version": "1.5.0",
          "state": {
            "_model_module": "@jupyter-widgets/controls",
            "_model_module_version": "1.5.0",
            "_model_name": "DescriptionStyleModel",
            "_view_count": null,
            "_view_module": "@jupyter-widgets/base",
            "_view_module_version": "1.2.0",
            "_view_name": "StyleView",
            "description_width": ""
          }
        },
        "0a63b9e52fac468ea7d7813ab470b93c": {
          "model_module": "@jupyter-widgets/controls",
          "model_name": "HBoxModel",
          "model_module_version": "1.5.0",
          "state": {
            "_dom_classes": [],
            "_model_module": "@jupyter-widgets/controls",
            "_model_module_version": "1.5.0",
            "_model_name": "HBoxModel",
            "_view_count": null,
            "_view_module": "@jupyter-widgets/controls",
            "_view_module_version": "1.5.0",
            "_view_name": "HBoxView",
            "box_style": "",
            "children": [
              "IPY_MODEL_7f95b3cb27584eeea822b9a590add80d",
              "IPY_MODEL_7991118a04624fc58eba208024a0ff5b",
              "IPY_MODEL_969dceee7c0b40e396355bb776173674"
            ],
            "layout": "IPY_MODEL_c818c605a09a4d92927dd81ce0c8c1e8"
          }
        },
        "7f95b3cb27584eeea822b9a590add80d": {
          "model_module": "@jupyter-widgets/controls",
          "model_name": "HTMLModel",
          "model_module_version": "1.5.0",
          "state": {
            "_dom_classes": [],
            "_model_module": "@jupyter-widgets/controls",
            "_model_module_version": "1.5.0",
            "_model_name": "HTMLModel",
            "_view_count": null,
            "_view_module": "@jupyter-widgets/controls",
            "_view_module_version": "1.5.0",
            "_view_name": "HTMLView",
            "description": "",
            "description_tooltip": null,
            "layout": "IPY_MODEL_f19728b5ef45487c87559f4166e9a457",
            "placeholder": "​",
            "style": "IPY_MODEL_9f79be53152a49498730c90b6b5c4884",
            "value": "Training @ epoch 1: 100%"
          }
        },
        "7991118a04624fc58eba208024a0ff5b": {
          "model_module": "@jupyter-widgets/controls",
          "model_name": "FloatProgressModel",
          "model_module_version": "1.5.0",
          "state": {
            "_dom_classes": [],
            "_model_module": "@jupyter-widgets/controls",
            "_model_module_version": "1.5.0",
            "_model_name": "FloatProgressModel",
            "_view_count": null,
            "_view_module": "@jupyter-widgets/controls",
            "_view_module_version": "1.5.0",
            "_view_name": "ProgressView",
            "bar_style": "success",
            "description": "",
            "description_tooltip": null,
            "layout": "IPY_MODEL_a4657e0578a6452a8e53697744eba119",
            "max": 196,
            "min": 0,
            "orientation": "horizontal",
            "style": "IPY_MODEL_aee4be8e50a64e928baf543eb3a119e9",
            "value": 196
          }
        },
        "969dceee7c0b40e396355bb776173674": {
          "model_module": "@jupyter-widgets/controls",
          "model_name": "HTMLModel",
          "model_module_version": "1.5.0",
          "state": {
            "_dom_classes": [],
            "_model_module": "@jupyter-widgets/controls",
            "_model_module_version": "1.5.0",
            "_model_name": "HTMLModel",
            "_view_count": null,
            "_view_module": "@jupyter-widgets/controls",
            "_view_module_version": "1.5.0",
            "_view_name": "HTMLView",
            "description": "",
            "description_tooltip": null,
            "layout": "IPY_MODEL_cd26d7e125384e31a1f35d5fe84809b8",
            "placeholder": "​",
            "style": "IPY_MODEL_c2fd7ce7a26646d9a92f5084d05fe5e5",
            "value": " 196/196 [00:15&lt;00:00, 13.29it/s]"
          }
        },
        "c818c605a09a4d92927dd81ce0c8c1e8": {
          "model_module": "@jupyter-widgets/base",
          "model_name": "LayoutModel",
          "model_module_version": "1.2.0",
          "state": {
            "_model_module": "@jupyter-widgets/base",
            "_model_module_version": "1.2.0",
            "_model_name": "LayoutModel",
            "_view_count": null,
            "_view_module": "@jupyter-widgets/base",
            "_view_module_version": "1.2.0",
            "_view_name": "LayoutView",
            "align_content": null,
            "align_items": null,
            "align_self": null,
            "border": null,
            "bottom": null,
            "display": null,
            "flex": null,
            "flex_flow": null,
            "grid_area": null,
            "grid_auto_columns": null,
            "grid_auto_flow": null,
            "grid_auto_rows": null,
            "grid_column": null,
            "grid_gap": null,
            "grid_row": null,
            "grid_template_areas": null,
            "grid_template_columns": null,
            "grid_template_rows": null,
            "height": null,
            "justify_content": null,
            "justify_items": null,
            "left": null,
            "margin": null,
            "max_height": null,
            "max_width": null,
            "min_height": null,
            "min_width": null,
            "object_fit": null,
            "object_position": null,
            "order": null,
            "overflow": null,
            "overflow_x": null,
            "overflow_y": null,
            "padding": null,
            "right": null,
            "top": null,
            "visibility": null,
            "width": null
          }
        },
        "f19728b5ef45487c87559f4166e9a457": {
          "model_module": "@jupyter-widgets/base",
          "model_name": "LayoutModel",
          "model_module_version": "1.2.0",
          "state": {
            "_model_module": "@jupyter-widgets/base",
            "_model_module_version": "1.2.0",
            "_model_name": "LayoutModel",
            "_view_count": null,
            "_view_module": "@jupyter-widgets/base",
            "_view_module_version": "1.2.0",
            "_view_name": "LayoutView",
            "align_content": null,
            "align_items": null,
            "align_self": null,
            "border": null,
            "bottom": null,
            "display": null,
            "flex": null,
            "flex_flow": null,
            "grid_area": null,
            "grid_auto_columns": null,
            "grid_auto_flow": null,
            "grid_auto_rows": null,
            "grid_column": null,
            "grid_gap": null,
            "grid_row": null,
            "grid_template_areas": null,
            "grid_template_columns": null,
            "grid_template_rows": null,
            "height": null,
            "justify_content": null,
            "justify_items": null,
            "left": null,
            "margin": null,
            "max_height": null,
            "max_width": null,
            "min_height": null,
            "min_width": null,
            "object_fit": null,
            "object_position": null,
            "order": null,
            "overflow": null,
            "overflow_x": null,
            "overflow_y": null,
            "padding": null,
            "right": null,
            "top": null,
            "visibility": null,
            "width": null
          }
        },
        "9f79be53152a49498730c90b6b5c4884": {
          "model_module": "@jupyter-widgets/controls",
          "model_name": "DescriptionStyleModel",
          "model_module_version": "1.5.0",
          "state": {
            "_model_module": "@jupyter-widgets/controls",
            "_model_module_version": "1.5.0",
            "_model_name": "DescriptionStyleModel",
            "_view_count": null,
            "_view_module": "@jupyter-widgets/base",
            "_view_module_version": "1.2.0",
            "_view_name": "StyleView",
            "description_width": ""
          }
        },
        "a4657e0578a6452a8e53697744eba119": {
          "model_module": "@jupyter-widgets/base",
          "model_name": "LayoutModel",
          "model_module_version": "1.2.0",
          "state": {
            "_model_module": "@jupyter-widgets/base",
            "_model_module_version": "1.2.0",
            "_model_name": "LayoutModel",
            "_view_count": null,
            "_view_module": "@jupyter-widgets/base",
            "_view_module_version": "1.2.0",
            "_view_name": "LayoutView",
            "align_content": null,
            "align_items": null,
            "align_self": null,
            "border": null,
            "bottom": null,
            "display": null,
            "flex": null,
            "flex_flow": null,
            "grid_area": null,
            "grid_auto_columns": null,
            "grid_auto_flow": null,
            "grid_auto_rows": null,
            "grid_column": null,
            "grid_gap": null,
            "grid_row": null,
            "grid_template_areas": null,
            "grid_template_columns": null,
            "grid_template_rows": null,
            "height": null,
            "justify_content": null,
            "justify_items": null,
            "left": null,
            "margin": null,
            "max_height": null,
            "max_width": null,
            "min_height": null,
            "min_width": null,
            "object_fit": null,
            "object_position": null,
            "order": null,
            "overflow": null,
            "overflow_x": null,
            "overflow_y": null,
            "padding": null,
            "right": null,
            "top": null,
            "visibility": null,
            "width": null
          }
        },
        "aee4be8e50a64e928baf543eb3a119e9": {
          "model_module": "@jupyter-widgets/controls",
          "model_name": "ProgressStyleModel",
          "model_module_version": "1.5.0",
          "state": {
            "_model_module": "@jupyter-widgets/controls",
            "_model_module_version": "1.5.0",
            "_model_name": "ProgressStyleModel",
            "_view_count": null,
            "_view_module": "@jupyter-widgets/base",
            "_view_module_version": "1.2.0",
            "_view_name": "StyleView",
            "bar_color": null,
            "description_width": ""
          }
        },
        "cd26d7e125384e31a1f35d5fe84809b8": {
          "model_module": "@jupyter-widgets/base",
          "model_name": "LayoutModel",
          "model_module_version": "1.2.0",
          "state": {
            "_model_module": "@jupyter-widgets/base",
            "_model_module_version": "1.2.0",
            "_model_name": "LayoutModel",
            "_view_count": null,
            "_view_module": "@jupyter-widgets/base",
            "_view_module_version": "1.2.0",
            "_view_name": "LayoutView",
            "align_content": null,
            "align_items": null,
            "align_self": null,
            "border": null,
            "bottom": null,
            "display": null,
            "flex": null,
            "flex_flow": null,
            "grid_area": null,
            "grid_auto_columns": null,
            "grid_auto_flow": null,
            "grid_auto_rows": null,
            "grid_column": null,
            "grid_gap": null,
            "grid_row": null,
            "grid_template_areas": null,
            "grid_template_columns": null,
            "grid_template_rows": null,
            "height": null,
            "justify_content": null,
            "justify_items": null,
            "left": null,
            "margin": null,
            "max_height": null,
            "max_width": null,
            "min_height": null,
            "min_width": null,
            "object_fit": null,
            "object_position": null,
            "order": null,
            "overflow": null,
            "overflow_x": null,
            "overflow_y": null,
            "padding": null,
            "right": null,
            "top": null,
            "visibility": null,
            "width": null
          }
        },
        "c2fd7ce7a26646d9a92f5084d05fe5e5": {
          "model_module": "@jupyter-widgets/controls",
          "model_name": "DescriptionStyleModel",
          "model_module_version": "1.5.0",
          "state": {
            "_model_module": "@jupyter-widgets/controls",
            "_model_module_version": "1.5.0",
            "_model_name": "DescriptionStyleModel",
            "_view_count": null,
            "_view_module": "@jupyter-widgets/base",
            "_view_module_version": "1.2.0",
            "_view_name": "StyleView",
            "description_width": ""
          }
        },
        "718d6ae8615544139fec5881fb40e29f": {
          "model_module": "@jupyter-widgets/controls",
          "model_name": "HBoxModel",
          "model_module_version": "1.5.0",
          "state": {
            "_dom_classes": [],
            "_model_module": "@jupyter-widgets/controls",
            "_model_module_version": "1.5.0",
            "_model_name": "HBoxModel",
            "_view_count": null,
            "_view_module": "@jupyter-widgets/controls",
            "_view_module_version": "1.5.0",
            "_view_name": "HBoxView",
            "box_style": "",
            "children": [
              "IPY_MODEL_a9082afa6d0149689f9938238ad0e665",
              "IPY_MODEL_19a2971b206d4e4eb5ef5320aea809c7",
              "IPY_MODEL_fd732036535c4a8b8757fbd839b6ac0e"
            ],
            "layout": "IPY_MODEL_1936a8a9700e4ab8b26b545be9f366e6"
          }
        },
        "a9082afa6d0149689f9938238ad0e665": {
          "model_module": "@jupyter-widgets/controls",
          "model_name": "HTMLModel",
          "model_module_version": "1.5.0",
          "state": {
            "_dom_classes": [],
            "_model_module": "@jupyter-widgets/controls",
            "_model_module_version": "1.5.0",
            "_model_name": "HTMLModel",
            "_view_count": null,
            "_view_module": "@jupyter-widgets/controls",
            "_view_module_version": "1.5.0",
            "_view_name": "HTMLView",
            "description": "",
            "description_tooltip": null,
            "layout": "IPY_MODEL_3f7f11b37dbe443bb54fc938690611f8",
            "placeholder": "​",
            "style": "IPY_MODEL_a272596cdd354cc0a82459e409859c9d",
            "value": "Training @ epoch 2: 100%"
          }
        },
        "19a2971b206d4e4eb5ef5320aea809c7": {
          "model_module": "@jupyter-widgets/controls",
          "model_name": "FloatProgressModel",
          "model_module_version": "1.5.0",
          "state": {
            "_dom_classes": [],
            "_model_module": "@jupyter-widgets/controls",
            "_model_module_version": "1.5.0",
            "_model_name": "FloatProgressModel",
            "_view_count": null,
            "_view_module": "@jupyter-widgets/controls",
            "_view_module_version": "1.5.0",
            "_view_name": "ProgressView",
            "bar_style": "success",
            "description": "",
            "description_tooltip": null,
            "layout": "IPY_MODEL_dc31735ff4a9432f93375ba2d7ea8dd0",
            "max": 196,
            "min": 0,
            "orientation": "horizontal",
            "style": "IPY_MODEL_f4381acdba63412494bad7e9c8ee6ec2",
            "value": 196
          }
        },
        "fd732036535c4a8b8757fbd839b6ac0e": {
          "model_module": "@jupyter-widgets/controls",
          "model_name": "HTMLModel",
          "model_module_version": "1.5.0",
          "state": {
            "_dom_classes": [],
            "_model_module": "@jupyter-widgets/controls",
            "_model_module_version": "1.5.0",
            "_model_name": "HTMLModel",
            "_view_count": null,
            "_view_module": "@jupyter-widgets/controls",
            "_view_module_version": "1.5.0",
            "_view_name": "HTMLView",
            "description": "",
            "description_tooltip": null,
            "layout": "IPY_MODEL_7c784f35332b4a54a15daa6aad53f8df",
            "placeholder": "​",
            "style": "IPY_MODEL_4d6ec96a1f7542d584e06d071891391c",
            "value": " 196/196 [00:15&lt;00:00, 15.25it/s]"
          }
        },
        "1936a8a9700e4ab8b26b545be9f366e6": {
          "model_module": "@jupyter-widgets/base",
          "model_name": "LayoutModel",
          "model_module_version": "1.2.0",
          "state": {
            "_model_module": "@jupyter-widgets/base",
            "_model_module_version": "1.2.0",
            "_model_name": "LayoutModel",
            "_view_count": null,
            "_view_module": "@jupyter-widgets/base",
            "_view_module_version": "1.2.0",
            "_view_name": "LayoutView",
            "align_content": null,
            "align_items": null,
            "align_self": null,
            "border": null,
            "bottom": null,
            "display": null,
            "flex": null,
            "flex_flow": null,
            "grid_area": null,
            "grid_auto_columns": null,
            "grid_auto_flow": null,
            "grid_auto_rows": null,
            "grid_column": null,
            "grid_gap": null,
            "grid_row": null,
            "grid_template_areas": null,
            "grid_template_columns": null,
            "grid_template_rows": null,
            "height": null,
            "justify_content": null,
            "justify_items": null,
            "left": null,
            "margin": null,
            "max_height": null,
            "max_width": null,
            "min_height": null,
            "min_width": null,
            "object_fit": null,
            "object_position": null,
            "order": null,
            "overflow": null,
            "overflow_x": null,
            "overflow_y": null,
            "padding": null,
            "right": null,
            "top": null,
            "visibility": null,
            "width": null
          }
        },
        "3f7f11b37dbe443bb54fc938690611f8": {
          "model_module": "@jupyter-widgets/base",
          "model_name": "LayoutModel",
          "model_module_version": "1.2.0",
          "state": {
            "_model_module": "@jupyter-widgets/base",
            "_model_module_version": "1.2.0",
            "_model_name": "LayoutModel",
            "_view_count": null,
            "_view_module": "@jupyter-widgets/base",
            "_view_module_version": "1.2.0",
            "_view_name": "LayoutView",
            "align_content": null,
            "align_items": null,
            "align_self": null,
            "border": null,
            "bottom": null,
            "display": null,
            "flex": null,
            "flex_flow": null,
            "grid_area": null,
            "grid_auto_columns": null,
            "grid_auto_flow": null,
            "grid_auto_rows": null,
            "grid_column": null,
            "grid_gap": null,
            "grid_row": null,
            "grid_template_areas": null,
            "grid_template_columns": null,
            "grid_template_rows": null,
            "height": null,
            "justify_content": null,
            "justify_items": null,
            "left": null,
            "margin": null,
            "max_height": null,
            "max_width": null,
            "min_height": null,
            "min_width": null,
            "object_fit": null,
            "object_position": null,
            "order": null,
            "overflow": null,
            "overflow_x": null,
            "overflow_y": null,
            "padding": null,
            "right": null,
            "top": null,
            "visibility": null,
            "width": null
          }
        },
        "a272596cdd354cc0a82459e409859c9d": {
          "model_module": "@jupyter-widgets/controls",
          "model_name": "DescriptionStyleModel",
          "model_module_version": "1.5.0",
          "state": {
            "_model_module": "@jupyter-widgets/controls",
            "_model_module_version": "1.5.0",
            "_model_name": "DescriptionStyleModel",
            "_view_count": null,
            "_view_module": "@jupyter-widgets/base",
            "_view_module_version": "1.2.0",
            "_view_name": "StyleView",
            "description_width": ""
          }
        },
        "dc31735ff4a9432f93375ba2d7ea8dd0": {
          "model_module": "@jupyter-widgets/base",
          "model_name": "LayoutModel",
          "model_module_version": "1.2.0",
          "state": {
            "_model_module": "@jupyter-widgets/base",
            "_model_module_version": "1.2.0",
            "_model_name": "LayoutModel",
            "_view_count": null,
            "_view_module": "@jupyter-widgets/base",
            "_view_module_version": "1.2.0",
            "_view_name": "LayoutView",
            "align_content": null,
            "align_items": null,
            "align_self": null,
            "border": null,
            "bottom": null,
            "display": null,
            "flex": null,
            "flex_flow": null,
            "grid_area": null,
            "grid_auto_columns": null,
            "grid_auto_flow": null,
            "grid_auto_rows": null,
            "grid_column": null,
            "grid_gap": null,
            "grid_row": null,
            "grid_template_areas": null,
            "grid_template_columns": null,
            "grid_template_rows": null,
            "height": null,
            "justify_content": null,
            "justify_items": null,
            "left": null,
            "margin": null,
            "max_height": null,
            "max_width": null,
            "min_height": null,
            "min_width": null,
            "object_fit": null,
            "object_position": null,
            "order": null,
            "overflow": null,
            "overflow_x": null,
            "overflow_y": null,
            "padding": null,
            "right": null,
            "top": null,
            "visibility": null,
            "width": null
          }
        },
        "f4381acdba63412494bad7e9c8ee6ec2": {
          "model_module": "@jupyter-widgets/controls",
          "model_name": "ProgressStyleModel",
          "model_module_version": "1.5.0",
          "state": {
            "_model_module": "@jupyter-widgets/controls",
            "_model_module_version": "1.5.0",
            "_model_name": "ProgressStyleModel",
            "_view_count": null,
            "_view_module": "@jupyter-widgets/base",
            "_view_module_version": "1.2.0",
            "_view_name": "StyleView",
            "bar_color": null,
            "description_width": ""
          }
        },
        "7c784f35332b4a54a15daa6aad53f8df": {
          "model_module": "@jupyter-widgets/base",
          "model_name": "LayoutModel",
          "model_module_version": "1.2.0",
          "state": {
            "_model_module": "@jupyter-widgets/base",
            "_model_module_version": "1.2.0",
            "_model_name": "LayoutModel",
            "_view_count": null,
            "_view_module": "@jupyter-widgets/base",
            "_view_module_version": "1.2.0",
            "_view_name": "LayoutView",
            "align_content": null,
            "align_items": null,
            "align_self": null,
            "border": null,
            "bottom": null,
            "display": null,
            "flex": null,
            "flex_flow": null,
            "grid_area": null,
            "grid_auto_columns": null,
            "grid_auto_flow": null,
            "grid_auto_rows": null,
            "grid_column": null,
            "grid_gap": null,
            "grid_row": null,
            "grid_template_areas": null,
            "grid_template_columns": null,
            "grid_template_rows": null,
            "height": null,
            "justify_content": null,
            "justify_items": null,
            "left": null,
            "margin": null,
            "max_height": null,
            "max_width": null,
            "min_height": null,
            "min_width": null,
            "object_fit": null,
            "object_position": null,
            "order": null,
            "overflow": null,
            "overflow_x": null,
            "overflow_y": null,
            "padding": null,
            "right": null,
            "top": null,
            "visibility": null,
            "width": null
          }
        },
        "4d6ec96a1f7542d584e06d071891391c": {
          "model_module": "@jupyter-widgets/controls",
          "model_name": "DescriptionStyleModel",
          "model_module_version": "1.5.0",
          "state": {
            "_model_module": "@jupyter-widgets/controls",
            "_model_module_version": "1.5.0",
            "_model_name": "DescriptionStyleModel",
            "_view_count": null,
            "_view_module": "@jupyter-widgets/base",
            "_view_module_version": "1.2.0",
            "_view_name": "StyleView",
            "description_width": ""
          }
        },
        "be32ca73c788435c853d42f57296b55c": {
          "model_module": "@jupyter-widgets/controls",
          "model_name": "HBoxModel",
          "model_module_version": "1.5.0",
          "state": {
            "_dom_classes": [],
            "_model_module": "@jupyter-widgets/controls",
            "_model_module_version": "1.5.0",
            "_model_name": "HBoxModel",
            "_view_count": null,
            "_view_module": "@jupyter-widgets/controls",
            "_view_module_version": "1.5.0",
            "_view_name": "HBoxView",
            "box_style": "",
            "children": [
              "IPY_MODEL_2698953271674c4bb744d5a9592936e1",
              "IPY_MODEL_d0237c98259143929e6afa7ff568d717",
              "IPY_MODEL_5cb05f04192241cdb9c37fe2019294b5"
            ],
            "layout": "IPY_MODEL_bce95dd2bef9442eb7bcf6653e7b4aaa"
          }
        },
        "2698953271674c4bb744d5a9592936e1": {
          "model_module": "@jupyter-widgets/controls",
          "model_name": "HTMLModel",
          "model_module_version": "1.5.0",
          "state": {
            "_dom_classes": [],
            "_model_module": "@jupyter-widgets/controls",
            "_model_module_version": "1.5.0",
            "_model_name": "HTMLModel",
            "_view_count": null,
            "_view_module": "@jupyter-widgets/controls",
            "_view_module_version": "1.5.0",
            "_view_name": "HTMLView",
            "description": "",
            "description_tooltip": null,
            "layout": "IPY_MODEL_5294132916404eb196b8b5515388f03b",
            "placeholder": "​",
            "style": "IPY_MODEL_06d8d5ca9b754841b9de656066d9b19e",
            "value": "Training @ epoch 3: 100%"
          }
        },
        "d0237c98259143929e6afa7ff568d717": {
          "model_module": "@jupyter-widgets/controls",
          "model_name": "FloatProgressModel",
          "model_module_version": "1.5.0",
          "state": {
            "_dom_classes": [],
            "_model_module": "@jupyter-widgets/controls",
            "_model_module_version": "1.5.0",
            "_model_name": "FloatProgressModel",
            "_view_count": null,
            "_view_module": "@jupyter-widgets/controls",
            "_view_module_version": "1.5.0",
            "_view_name": "ProgressView",
            "bar_style": "success",
            "description": "",
            "description_tooltip": null,
            "layout": "IPY_MODEL_a4c456789ec54ca2924735a784d44f17",
            "max": 196,
            "min": 0,
            "orientation": "horizontal",
            "style": "IPY_MODEL_2f9700db18504b189d39f9f5967c21af",
            "value": 196
          }
        },
        "5cb05f04192241cdb9c37fe2019294b5": {
          "model_module": "@jupyter-widgets/controls",
          "model_name": "HTMLModel",
          "model_module_version": "1.5.0",
          "state": {
            "_dom_classes": [],
            "_model_module": "@jupyter-widgets/controls",
            "_model_module_version": "1.5.0",
            "_model_name": "HTMLModel",
            "_view_count": null,
            "_view_module": "@jupyter-widgets/controls",
            "_view_module_version": "1.5.0",
            "_view_name": "HTMLView",
            "description": "",
            "description_tooltip": null,
            "layout": "IPY_MODEL_4bef92baf19a4c0db6db0dfecc0015c7",
            "placeholder": "​",
            "style": "IPY_MODEL_b19149b0094a4ae7b9c7ecc7832a694c",
            "value": " 196/196 [00:15&lt;00:00, 10.69it/s]"
          }
        },
        "bce95dd2bef9442eb7bcf6653e7b4aaa": {
          "model_module": "@jupyter-widgets/base",
          "model_name": "LayoutModel",
          "model_module_version": "1.2.0",
          "state": {
            "_model_module": "@jupyter-widgets/base",
            "_model_module_version": "1.2.0",
            "_model_name": "LayoutModel",
            "_view_count": null,
            "_view_module": "@jupyter-widgets/base",
            "_view_module_version": "1.2.0",
            "_view_name": "LayoutView",
            "align_content": null,
            "align_items": null,
            "align_self": null,
            "border": null,
            "bottom": null,
            "display": null,
            "flex": null,
            "flex_flow": null,
            "grid_area": null,
            "grid_auto_columns": null,
            "grid_auto_flow": null,
            "grid_auto_rows": null,
            "grid_column": null,
            "grid_gap": null,
            "grid_row": null,
            "grid_template_areas": null,
            "grid_template_columns": null,
            "grid_template_rows": null,
            "height": null,
            "justify_content": null,
            "justify_items": null,
            "left": null,
            "margin": null,
            "max_height": null,
            "max_width": null,
            "min_height": null,
            "min_width": null,
            "object_fit": null,
            "object_position": null,
            "order": null,
            "overflow": null,
            "overflow_x": null,
            "overflow_y": null,
            "padding": null,
            "right": null,
            "top": null,
            "visibility": null,
            "width": null
          }
        },
        "5294132916404eb196b8b5515388f03b": {
          "model_module": "@jupyter-widgets/base",
          "model_name": "LayoutModel",
          "model_module_version": "1.2.0",
          "state": {
            "_model_module": "@jupyter-widgets/base",
            "_model_module_version": "1.2.0",
            "_model_name": "LayoutModel",
            "_view_count": null,
            "_view_module": "@jupyter-widgets/base",
            "_view_module_version": "1.2.0",
            "_view_name": "LayoutView",
            "align_content": null,
            "align_items": null,
            "align_self": null,
            "border": null,
            "bottom": null,
            "display": null,
            "flex": null,
            "flex_flow": null,
            "grid_area": null,
            "grid_auto_columns": null,
            "grid_auto_flow": null,
            "grid_auto_rows": null,
            "grid_column": null,
            "grid_gap": null,
            "grid_row": null,
            "grid_template_areas": null,
            "grid_template_columns": null,
            "grid_template_rows": null,
            "height": null,
            "justify_content": null,
            "justify_items": null,
            "left": null,
            "margin": null,
            "max_height": null,
            "max_width": null,
            "min_height": null,
            "min_width": null,
            "object_fit": null,
            "object_position": null,
            "order": null,
            "overflow": null,
            "overflow_x": null,
            "overflow_y": null,
            "padding": null,
            "right": null,
            "top": null,
            "visibility": null,
            "width": null
          }
        },
        "06d8d5ca9b754841b9de656066d9b19e": {
          "model_module": "@jupyter-widgets/controls",
          "model_name": "DescriptionStyleModel",
          "model_module_version": "1.5.0",
          "state": {
            "_model_module": "@jupyter-widgets/controls",
            "_model_module_version": "1.5.0",
            "_model_name": "DescriptionStyleModel",
            "_view_count": null,
            "_view_module": "@jupyter-widgets/base",
            "_view_module_version": "1.2.0",
            "_view_name": "StyleView",
            "description_width": ""
          }
        },
        "a4c456789ec54ca2924735a784d44f17": {
          "model_module": "@jupyter-widgets/base",
          "model_name": "LayoutModel",
          "model_module_version": "1.2.0",
          "state": {
            "_model_module": "@jupyter-widgets/base",
            "_model_module_version": "1.2.0",
            "_model_name": "LayoutModel",
            "_view_count": null,
            "_view_module": "@jupyter-widgets/base",
            "_view_module_version": "1.2.0",
            "_view_name": "LayoutView",
            "align_content": null,
            "align_items": null,
            "align_self": null,
            "border": null,
            "bottom": null,
            "display": null,
            "flex": null,
            "flex_flow": null,
            "grid_area": null,
            "grid_auto_columns": null,
            "grid_auto_flow": null,
            "grid_auto_rows": null,
            "grid_column": null,
            "grid_gap": null,
            "grid_row": null,
            "grid_template_areas": null,
            "grid_template_columns": null,
            "grid_template_rows": null,
            "height": null,
            "justify_content": null,
            "justify_items": null,
            "left": null,
            "margin": null,
            "max_height": null,
            "max_width": null,
            "min_height": null,
            "min_width": null,
            "object_fit": null,
            "object_position": null,
            "order": null,
            "overflow": null,
            "overflow_x": null,
            "overflow_y": null,
            "padding": null,
            "right": null,
            "top": null,
            "visibility": null,
            "width": null
          }
        },
        "2f9700db18504b189d39f9f5967c21af": {
          "model_module": "@jupyter-widgets/controls",
          "model_name": "ProgressStyleModel",
          "model_module_version": "1.5.0",
          "state": {
            "_model_module": "@jupyter-widgets/controls",
            "_model_module_version": "1.5.0",
            "_model_name": "ProgressStyleModel",
            "_view_count": null,
            "_view_module": "@jupyter-widgets/base",
            "_view_module_version": "1.2.0",
            "_view_name": "StyleView",
            "bar_color": null,
            "description_width": ""
          }
        },
        "4bef92baf19a4c0db6db0dfecc0015c7": {
          "model_module": "@jupyter-widgets/base",
          "model_name": "LayoutModel",
          "model_module_version": "1.2.0",
          "state": {
            "_model_module": "@jupyter-widgets/base",
            "_model_module_version": "1.2.0",
            "_model_name": "LayoutModel",
            "_view_count": null,
            "_view_module": "@jupyter-widgets/base",
            "_view_module_version": "1.2.0",
            "_view_name": "LayoutView",
            "align_content": null,
            "align_items": null,
            "align_self": null,
            "border": null,
            "bottom": null,
            "display": null,
            "flex": null,
            "flex_flow": null,
            "grid_area": null,
            "grid_auto_columns": null,
            "grid_auto_flow": null,
            "grid_auto_rows": null,
            "grid_column": null,
            "grid_gap": null,
            "grid_row": null,
            "grid_template_areas": null,
            "grid_template_columns": null,
            "grid_template_rows": null,
            "height": null,
            "justify_content": null,
            "justify_items": null,
            "left": null,
            "margin": null,
            "max_height": null,
            "max_width": null,
            "min_height": null,
            "min_width": null,
            "object_fit": null,
            "object_position": null,
            "order": null,
            "overflow": null,
            "overflow_x": null,
            "overflow_y": null,
            "padding": null,
            "right": null,
            "top": null,
            "visibility": null,
            "width": null
          }
        },
        "b19149b0094a4ae7b9c7ecc7832a694c": {
          "model_module": "@jupyter-widgets/controls",
          "model_name": "DescriptionStyleModel",
          "model_module_version": "1.5.0",
          "state": {
            "_model_module": "@jupyter-widgets/controls",
            "_model_module_version": "1.5.0",
            "_model_name": "DescriptionStyleModel",
            "_view_count": null,
            "_view_module": "@jupyter-widgets/base",
            "_view_module_version": "1.2.0",
            "_view_name": "StyleView",
            "description_width": ""
          }
        }
      }
    }
  },
  "nbformat": 4,
  "nbformat_minor": 0
}